{
 "cells": [
  {
   "cell_type": "code",
   "execution_count": null,
   "metadata": {},
   "outputs": [],
   "source": [
    "import pandas as pd\n",
    "print(pd.__version__)"
   ]
  },
  {
   "cell_type": "markdown",
   "metadata": {},
   "source": [
    "# 23. Create Jupyter Notebook for the Series Module"
   ]
  },
  {
   "cell_type": "code",
   "execution_count": null,
   "metadata": {},
   "outputs": [],
   "source": [
    "import pandas as pd"
   ]
  },
  {
   "cell_type": "markdown",
   "metadata": {},
   "source": [
    "# 24. Create A Series Object from a Python List"
   ]
  },
  {
   "cell_type": "code",
   "execution_count": null,
   "metadata": {},
   "outputs": [],
   "source": [
    "ice_cream = ['Chocolate', 'Vanilla', 'Strawberry', 'Rome Raisin']\n",
    "\n",
    "pd.Series(ice_cream)"
   ]
  },
  {
   "cell_type": "code",
   "execution_count": null,
   "metadata": {},
   "outputs": [],
   "source": [
    "lottery = [4, 8, 15, 16, 23, 42]\n",
    "\n",
    "pd.Series(lottery)"
   ]
  },
  {
   "cell_type": "code",
   "execution_count": null,
   "metadata": {},
   "outputs": [],
   "source": [
    "registrations = [True, False, False, False, True]\n",
    "\n",
    "pd.Series(registrations)"
   ]
  },
  {
   "cell_type": "markdown",
   "metadata": {},
   "source": [
    "# 25. Create A Series Object from a Python Dictionary"
   ]
  },
  {
   "cell_type": "code",
   "execution_count": null,
   "metadata": {},
   "outputs": [],
   "source": [
    "webster = {\"Aardvark\": \"An animal\",\n",
    "           \"Banana\": \"A delicious fruit\",\n",
    "           \"Cyan\": \"A color\"}\n",
    "\n",
    "pd.Series(webster)"
   ]
  },
  {
   "cell_type": "markdown",
   "metadata": {},
   "source": [
    "# Упражнение по написанию кода 1: Create a Series Object"
   ]
  },
  {
   "cell_type": "code",
   "execution_count": null,
   "metadata": {},
   "outputs": [],
   "source": [
    "###############################################################\n",
    "# DO NOT DELETE THIS CODE. IT IS NEEDED FOR THE TESTS TO RUN. #\n",
    "from unittest.mock import MagicMock                           #\n",
    "import pandas as pd                                           #\n",
    "pd.Series = MagicMock()                                       #\n",
    "###############################################################\n",
    "\n",
    "# Assume the pandas library has already been imported and assigned\n",
    "# the alias \"pd\".\n",
    "\n",
    "# Create a list with 4 countries - United States, France, Germany, Italy\n",
    "countries_list = [\"United States\", \"France\", \"Germany\", \"Italy\"]\n",
    "# Create a new Series by passing in the list of countries\n",
    "# Assign the Series to a \"countries\" variable\n",
    "countries = pd.Series(countries_list)\n",
    "\n",
    "# Create a list with 3 colors - red, green, blue\n",
    "colors_list = [\"red\", \"green\", \"blue\"]\n",
    "# Create a new Series by passing in the list of colors\n",
    "# Assign the Series to a \"colors\" variable\n",
    "colors = pd.Series(colors_list)\n",
    "\n",
    "# Given the \"recipe\" dictionary below,\n",
    "# create a new Series by passing in the dictionary as the data source\n",
    "# Assign the resulting Series to a \"series_dict\" variable\n",
    "recipe = {\n",
    "  \"Flour\": True,\n",
    "  \"Sugar\": True,\n",
    "  \"Salt\": False\n",
    "}\n",
    "series_dict = pd.Series(recipe)"
   ]
  },
  {
   "cell_type": "markdown",
   "metadata": {},
   "source": [
    "# 26. Intro to Attributes on a Series Object"
   ]
  },
  {
   "cell_type": "code",
   "execution_count": null,
   "metadata": {},
   "outputs": [],
   "source": [
    "import pandas as pd\n",
    "about_me = [\"Smart\", \"Handsome\", \"Charming\", \"Brilliant\", \"Humble\"]\n",
    "s = pd.Series(about_me)\n",
    "s"
   ]
  },
  {
   "cell_type": "code",
   "execution_count": null,
   "metadata": {},
   "outputs": [],
   "source": [
    "s.values"
   ]
  },
  {
   "cell_type": "code",
   "execution_count": null,
   "metadata": {},
   "outputs": [],
   "source": [
    "s.index"
   ]
  },
  {
   "cell_type": "code",
   "execution_count": null,
   "metadata": {},
   "outputs": [],
   "source": [
    "s.dtype"
   ]
  },
  {
   "cell_type": "markdown",
   "metadata": {},
   "source": [
    "# 27. Intro to Methods on a Series Object"
   ]
  },
  {
   "cell_type": "code",
   "execution_count": null,
   "metadata": {},
   "outputs": [],
   "source": [
    "prices = [2.99, 4.45, 1.36]\n",
    "s = pd.Series(prices)\n",
    "s"
   ]
  },
  {
   "cell_type": "code",
   "execution_count": null,
   "metadata": {},
   "outputs": [],
   "source": [
    "s.sum()"
   ]
  },
  {
   "cell_type": "code",
   "execution_count": null,
   "metadata": {},
   "outputs": [],
   "source": [
    "s.product()"
   ]
  },
  {
   "cell_type": "code",
   "execution_count": null,
   "metadata": {},
   "outputs": [],
   "source": [
    "s.mean()"
   ]
  },
  {
   "cell_type": "markdown",
   "metadata": {},
   "source": [
    "# 28. Parameters and Arguments"
   ]
  },
  {
   "cell_type": "code",
   "execution_count": null,
   "metadata": {},
   "outputs": [],
   "source": [
    "fruits = [\"Apple\", \"Orange\", \"Plum\", \"Grape\", \"Blueberry\"]\n",
    "weekdays = [\"Monday\", \"Tuesday\", \"Wednesday\", \"Thursday\", \"Friday\"]\n",
    "\n",
    "s = pd.Series(fruits, weekdays)\n",
    "s = pd.Series(data = fruits, index = weekdays)\n",
    "s = pd.Series(fruits, index = weekdays)\n",
    "s"
   ]
  },
  {
   "cell_type": "code",
   "execution_count": null,
   "metadata": {},
   "outputs": [],
   "source": [
    "fruits = [\"Apple\", \"Orange\", \"Plum\", \"Grape\", \"Blueberry\", \"Watermelon\"]\n",
    "weekdays = [\"Monday\", \"Tuesday\", \"Wednesday\", \"Thursday\", \"Friday\", \"Monday\"\"\"]\n",
    "\n",
    "s = pd.Series(fruits, weekdays)\n",
    "s"
   ]
  },
  {
   "cell_type": "code",
   "execution_count": null,
   "metadata": {},
   "outputs": [],
   "source": [
    "s[\"Monday\"]"
   ]
  },
  {
   "cell_type": "code",
   "execution_count": null,
   "metadata": {},
   "outputs": [],
   "source": [
    "s[\"Monday\"][0]"
   ]
  },
  {
   "cell_type": "markdown",
   "metadata": {},
   "source": [
    "# 29. Create Series from Dataset with the pd.read_csv Method"
   ]
  },
  {
   "cell_type": "code",
   "execution_count": null,
   "metadata": {},
   "outputs": [],
   "source": [
    "pokemon = pd.read_csv('pandas/pokemon.csv', usecols=['Pokemon'], squeeze=True)\n",
    "pokemon"
   ]
  },
  {
   "cell_type": "code",
   "execution_count": null,
   "metadata": {},
   "outputs": [],
   "source": [
    "google = pd.read_csv(\"pandas/google_stock_price.csv\", usecols=['Stock Price'], squeeze=True)\n",
    "google"
   ]
  },
  {
   "cell_type": "markdown",
   "metadata": {
    "scrolled": false
   },
   "source": [
    "# Упражнение по написанию кода 2: Import Series with the read_csv Method"
   ]
  },
  {
   "cell_type": "code",
   "execution_count": null,
   "metadata": {},
   "outputs": [],
   "source": [
    "###############################################################\n",
    "# DO NOT DELETE THIS CODE. IT IS NEEDED FOR THE TESTS TO RUN. #\n",
    "from unittest.mock import MagicMock                           #\n",
    "import pandas as pd                                           #\n",
    "pd.read_csv = MagicMock(spec = pd.read_csv)                   #\n",
    "###############################################################\n",
    "\n",
    "# Assume the pandas library has already been imported and assigned the alias \"pd\".\n",
    "\n",
    "# Let's say we have a foods.csv CSV file with 3 columns: Item Number, Menu Item, Price\n",
    "# The raw CSV data looks like this:\n",
    "#\n",
    "# Item Number,Menu Item,Price\n",
    "# 1,Big Mac,4.99\n",
    "# 2,McNuggets,7.99\n",
    "# 3,Quarter Pounder,3.99\n",
    "#\n",
    "# Import the CSV file into a Pandas Series object\n",
    "# The Series should have the standard Pandas numeric index\n",
    "# The Series values should be the string values from the \"Menu Item\" column\n",
    "# Assign the Series object to a \"foods\" variable\n",
    "foods = pd.read_csv(\"foods.csv\", usecols=['Menu Item'], squeeze=True)"
   ]
  },
  {
   "cell_type": "markdown",
   "metadata": {},
   "source": [
    "# 30. Use the head and tail Methods to Return Rows from Beginning and End of Dataset"
   ]
  },
  {
   "cell_type": "code",
   "execution_count": 3,
   "metadata": {},
   "outputs": [
    {
     "data": {
      "text/plain": [
       "0        50.12\n",
       "1        54.10\n",
       "2        54.65\n",
       "3        52.38\n",
       "4        52.95\n",
       "         ...  \n",
       "3007    772.88\n",
       "3008    771.07\n",
       "3009    773.18\n",
       "3010    771.61\n",
       "3011    782.22\n",
       "Name: Stock Price, Length: 3012, dtype: float64"
      ]
     },
     "execution_count": 3,
     "metadata": {},
     "output_type": "execute_result"
    }
   ],
   "source": [
    "import pandas as pd\n",
    "pokemon = pd.read_csv('pandas/pokemon.csv', usecols=['Pokemon'], squeeze=True)\n",
    "google = pd.read_csv(\"pandas/google_stock_price.csv\", squeeze=True)\n",
    "google"
   ]
  },
  {
   "cell_type": "code",
   "execution_count": 6,
   "metadata": {},
   "outputs": [
    {
     "data": {
      "text/plain": [
       "0     Bulbasaur\n",
       "1       Ivysaur\n",
       "2      Venusaur\n",
       "3    Charmander\n",
       "4    Charmeleon\n",
       "Name: Pokemon, dtype: object"
      ]
     },
     "execution_count": 6,
     "metadata": {},
     "output_type": "execute_result"
    }
   ],
   "source": [
    "pokemon.head()"
   ]
  },
  {
   "cell_type": "code",
   "execution_count": 7,
   "metadata": {},
   "outputs": [
    {
     "data": {
      "text/plain": [
       "0     Bulbasaur\n",
       "1       Ivysaur\n",
       "2      Venusaur\n",
       "3    Charmander\n",
       "4    Charmeleon\n",
       "5     Charizard\n",
       "6      Squirtle\n",
       "7     Wartortle\n",
       "8     Blastoise\n",
       "9      Caterpie\n",
       "Name: Pokemon, dtype: object"
      ]
     },
     "execution_count": 7,
     "metadata": {},
     "output_type": "execute_result"
    }
   ],
   "source": [
    "pokemon.head(10)"
   ]
  },
  {
   "cell_type": "code",
   "execution_count": 8,
   "metadata": {},
   "outputs": [
    {
     "data": {
      "text/plain": [
       "3007    772.88\n",
       "3008    771.07\n",
       "3009    773.18\n",
       "3010    771.61\n",
       "3011    782.22\n",
       "Name: Stock Price, dtype: float64"
      ]
     },
     "execution_count": 8,
     "metadata": {},
     "output_type": "execute_result"
    }
   ],
   "source": [
    "google.tail()"
   ]
  },
  {
   "cell_type": "code",
   "execution_count": 9,
   "metadata": {},
   "outputs": [
    {
     "data": {
      "text/plain": [
       "3005    745.91\n",
       "3006    768.79\n",
       "3007    772.88\n",
       "3008    771.07\n",
       "3009    773.18\n",
       "3010    771.61\n",
       "3011    782.22\n",
       "Name: Stock Price, dtype: float64"
      ]
     },
     "execution_count": 9,
     "metadata": {},
     "output_type": "execute_result"
    }
   ],
   "source": [
    "google.tail(7)"
   ]
  },
  {
   "cell_type": "code",
   "execution_count": 11,
   "metadata": {},
   "outputs": [],
   "source": [
    "google.to_excel(\"temp.xlsx\")"
   ]
  },
  {
   "cell_type": "markdown",
   "metadata": {},
   "source": [
    "# 31. Passing pandas Objects to Python Built-In Functions"
   ]
  },
  {
   "cell_type": "code",
   "execution_count": 12,
   "metadata": {},
   "outputs": [
    {
     "data": {
      "text/plain": [
       "0    50.12\n",
       "1    54.10\n",
       "2    54.65\n",
       "3    52.38\n",
       "4    52.95\n",
       "Name: Stock Price, dtype: float64"
      ]
     },
     "execution_count": 12,
     "metadata": {},
     "output_type": "execute_result"
    }
   ],
   "source": [
    "google[:5]"
   ]
  },
  {
   "cell_type": "code",
   "execution_count": 13,
   "metadata": {},
   "outputs": [
    {
     "data": {
      "text/plain": [
       "0    50.12\n",
       "1    54.10\n",
       "2    54.65\n",
       "3    52.38\n",
       "4    52.95\n",
       "Name: Stock Price, dtype: float64"
      ]
     },
     "execution_count": 13,
     "metadata": {},
     "output_type": "execute_result"
    }
   ],
   "source": [
    "google.head(5)"
   ]
  },
  {
   "cell_type": "code",
   "execution_count": 16,
   "metadata": {},
   "outputs": [
    {
     "name": "stdout",
     "output_type": "stream",
     "text": [
      "721\n",
      "3012\n"
     ]
    }
   ],
   "source": [
    "print(len(pokemon))\n",
    "print(len(google))"
   ]
  },
  {
   "cell_type": "code",
   "execution_count": 17,
   "metadata": {},
   "outputs": [
    {
     "data": {
      "text/plain": [
       "pandas.core.series.Series"
      ]
     },
     "execution_count": 17,
     "metadata": {},
     "output_type": "execute_result"
    }
   ],
   "source": [
    "type(google)"
   ]
  },
  {
   "cell_type": "code",
   "execution_count": 18,
   "metadata": {
    "collapsed": true
   },
   "outputs": [
    {
     "data": {
      "text/plain": [
       "['T',\n",
       " '_AXIS_ALIASES',\n",
       " '_AXIS_IALIASES',\n",
       " '_AXIS_LEN',\n",
       " '_AXIS_NAMES',\n",
       " '_AXIS_NUMBERS',\n",
       " '_AXIS_ORDERS',\n",
       " '_AXIS_REVERSED',\n",
       " '_HANDLED_TYPES',\n",
       " '__abs__',\n",
       " '__add__',\n",
       " '__and__',\n",
       " '__annotations__',\n",
       " '__array__',\n",
       " '__array_priority__',\n",
       " '__array_ufunc__',\n",
       " '__array_wrap__',\n",
       " '__bool__',\n",
       " '__class__',\n",
       " '__contains__',\n",
       " '__copy__',\n",
       " '__deepcopy__',\n",
       " '__delattr__',\n",
       " '__delitem__',\n",
       " '__dict__',\n",
       " '__dir__',\n",
       " '__div__',\n",
       " '__divmod__',\n",
       " '__doc__',\n",
       " '__eq__',\n",
       " '__finalize__',\n",
       " '__float__',\n",
       " '__floordiv__',\n",
       " '__format__',\n",
       " '__ge__',\n",
       " '__getattr__',\n",
       " '__getattribute__',\n",
       " '__getitem__',\n",
       " '__getstate__',\n",
       " '__gt__',\n",
       " '__hash__',\n",
       " '__iadd__',\n",
       " '__iand__',\n",
       " '__ifloordiv__',\n",
       " '__imod__',\n",
       " '__imul__',\n",
       " '__init__',\n",
       " '__init_subclass__',\n",
       " '__int__',\n",
       " '__invert__',\n",
       " '__ior__',\n",
       " '__ipow__',\n",
       " '__isub__',\n",
       " '__iter__',\n",
       " '__itruediv__',\n",
       " '__ixor__',\n",
       " '__le__',\n",
       " '__len__',\n",
       " '__long__',\n",
       " '__lt__',\n",
       " '__matmul__',\n",
       " '__mod__',\n",
       " '__module__',\n",
       " '__mul__',\n",
       " '__ne__',\n",
       " '__neg__',\n",
       " '__new__',\n",
       " '__nonzero__',\n",
       " '__or__',\n",
       " '__pos__',\n",
       " '__pow__',\n",
       " '__radd__',\n",
       " '__rand__',\n",
       " '__rdiv__',\n",
       " '__rdivmod__',\n",
       " '__reduce__',\n",
       " '__reduce_ex__',\n",
       " '__repr__',\n",
       " '__rfloordiv__',\n",
       " '__rmatmul__',\n",
       " '__rmod__',\n",
       " '__rmul__',\n",
       " '__ror__',\n",
       " '__round__',\n",
       " '__rpow__',\n",
       " '__rsub__',\n",
       " '__rtruediv__',\n",
       " '__rxor__',\n",
       " '__setattr__',\n",
       " '__setitem__',\n",
       " '__setstate__',\n",
       " '__sizeof__',\n",
       " '__str__',\n",
       " '__sub__',\n",
       " '__subclasshook__',\n",
       " '__truediv__',\n",
       " '__weakref__',\n",
       " '__xor__',\n",
       " '_accessors',\n",
       " '_add_numeric_operations',\n",
       " '_add_series_or_dataframe_operations',\n",
       " '_agg_by_level',\n",
       " '_agg_examples_doc',\n",
       " '_agg_see_also_doc',\n",
       " '_aggregate',\n",
       " '_aggregate_multiple_funcs',\n",
       " '_align_frame',\n",
       " '_align_series',\n",
       " '_binop',\n",
       " '_box_item_values',\n",
       " '_builtin_table',\n",
       " '_can_hold_na',\n",
       " '_check_inplace_setting',\n",
       " '_check_is_chained_assignment_possible',\n",
       " '_check_label_or_level_ambiguity',\n",
       " '_check_setitem_copy',\n",
       " '_clear_item_cache',\n",
       " '_clip_with_one_bound',\n",
       " '_clip_with_scalar',\n",
       " '_consolidate',\n",
       " '_consolidate_inplace',\n",
       " '_construct_axes_dict',\n",
       " '_construct_axes_dict_from',\n",
       " '_construct_axes_from_arguments',\n",
       " '_constructor',\n",
       " '_constructor_expanddim',\n",
       " '_constructor_sliced',\n",
       " '_convert',\n",
       " '_convert_dtypes',\n",
       " '_create_indexer',\n",
       " '_cython_table',\n",
       " '_deprecations',\n",
       " '_dir_additions',\n",
       " '_dir_deletions',\n",
       " '_drop_axis',\n",
       " '_drop_labels_or_levels',\n",
       " '_find_valid_index',\n",
       " '_from_axes',\n",
       " '_get_axis',\n",
       " '_get_axis_name',\n",
       " '_get_axis_number',\n",
       " '_get_axis_resolvers',\n",
       " '_get_block_manager_axis',\n",
       " '_get_bool_data',\n",
       " '_get_cacher',\n",
       " '_get_cleaned_column_resolvers',\n",
       " '_get_cython_func',\n",
       " '_get_index_resolvers',\n",
       " '_get_item_cache',\n",
       " '_get_label_or_level_values',\n",
       " '_get_numeric_data',\n",
       " '_get_value',\n",
       " '_get_values',\n",
       " '_get_values_tuple',\n",
       " '_get_with',\n",
       " '_gotitem',\n",
       " '_iget_item_cache',\n",
       " '_index',\n",
       " '_indexed_same',\n",
       " '_info_axis',\n",
       " '_info_axis_name',\n",
       " '_info_axis_number',\n",
       " '_init_dict',\n",
       " '_init_mgr',\n",
       " '_internal_get_values',\n",
       " '_internal_names',\n",
       " '_internal_names_set',\n",
       " '_is_builtin_func',\n",
       " '_is_cached',\n",
       " '_is_copy',\n",
       " '_is_datelike_mixed_type',\n",
       " '_is_label_or_level_reference',\n",
       " '_is_label_reference',\n",
       " '_is_level_reference',\n",
       " '_is_mixed_type',\n",
       " '_is_numeric_mixed_type',\n",
       " '_is_view',\n",
       " '_ix',\n",
       " '_ixs',\n",
       " '_map_values',\n",
       " '_maybe_cache_changed',\n",
       " '_maybe_update_cacher',\n",
       " '_metadata',\n",
       " '_ndarray_values',\n",
       " '_needs_reindex_multi',\n",
       " '_obj_with_exclusions',\n",
       " '_protect_consolidate',\n",
       " '_reduce',\n",
       " '_reindex_axes',\n",
       " '_reindex_indexer',\n",
       " '_reindex_multi',\n",
       " '_reindex_with_indexers',\n",
       " '_repr_data_resource_',\n",
       " '_repr_latex_',\n",
       " '_reset_cache',\n",
       " '_reset_cacher',\n",
       " '_selected_obj',\n",
       " '_selection',\n",
       " '_selection_list',\n",
       " '_selection_name',\n",
       " '_set_as_cached',\n",
       " '_set_axis',\n",
       " '_set_axis_name',\n",
       " '_set_is_copy',\n",
       " '_set_item',\n",
       " '_set_labels',\n",
       " '_set_name',\n",
       " '_set_subtyp',\n",
       " '_set_value',\n",
       " '_set_values',\n",
       " '_set_with',\n",
       " '_set_with_engine',\n",
       " '_setup_axes',\n",
       " '_slice',\n",
       " '_stat_axis',\n",
       " '_stat_axis_name',\n",
       " '_stat_axis_number',\n",
       " '_take_with_is_copy',\n",
       " '_to_dict_of_blocks',\n",
       " '_try_aggregate_string_function',\n",
       " '_typ',\n",
       " '_unpickle_series_compat',\n",
       " '_update_inplace',\n",
       " '_validate_dtype',\n",
       " '_values',\n",
       " '_where',\n",
       " '_xs',\n",
       " 'abs',\n",
       " 'add',\n",
       " 'add_prefix',\n",
       " 'add_suffix',\n",
       " 'agg',\n",
       " 'aggregate',\n",
       " 'align',\n",
       " 'all',\n",
       " 'any',\n",
       " 'append',\n",
       " 'apply',\n",
       " 'argmax',\n",
       " 'argmin',\n",
       " 'argsort',\n",
       " 'array',\n",
       " 'asfreq',\n",
       " 'asof',\n",
       " 'astype',\n",
       " 'at',\n",
       " 'at_time',\n",
       " 'attrs',\n",
       " 'autocorr',\n",
       " 'axes',\n",
       " 'between',\n",
       " 'between_time',\n",
       " 'bfill',\n",
       " 'bool',\n",
       " 'clip',\n",
       " 'combine',\n",
       " 'combine_first',\n",
       " 'convert_dtypes',\n",
       " 'copy',\n",
       " 'corr',\n",
       " 'count',\n",
       " 'cov',\n",
       " 'cummax',\n",
       " 'cummin',\n",
       " 'cumprod',\n",
       " 'cumsum',\n",
       " 'describe',\n",
       " 'diff',\n",
       " 'div',\n",
       " 'divide',\n",
       " 'divmod',\n",
       " 'dot',\n",
       " 'drop',\n",
       " 'drop_duplicates',\n",
       " 'droplevel',\n",
       " 'dropna',\n",
       " 'dtype',\n",
       " 'dtypes',\n",
       " 'duplicated',\n",
       " 'empty',\n",
       " 'eq',\n",
       " 'equals',\n",
       " 'ewm',\n",
       " 'expanding',\n",
       " 'explode',\n",
       " 'factorize',\n",
       " 'ffill',\n",
       " 'fillna',\n",
       " 'filter',\n",
       " 'first',\n",
       " 'first_valid_index',\n",
       " 'floordiv',\n",
       " 'ge',\n",
       " 'get',\n",
       " 'groupby',\n",
       " 'gt',\n",
       " 'hasnans',\n",
       " 'head',\n",
       " 'hist',\n",
       " 'iat',\n",
       " 'idxmax',\n",
       " 'idxmin',\n",
       " 'iloc',\n",
       " 'index',\n",
       " 'infer_objects',\n",
       " 'interpolate',\n",
       " 'is_monotonic',\n",
       " 'is_monotonic_decreasing',\n",
       " 'is_monotonic_increasing',\n",
       " 'is_unique',\n",
       " 'isin',\n",
       " 'isna',\n",
       " 'isnull',\n",
       " 'item',\n",
       " 'items',\n",
       " 'iteritems',\n",
       " 'keys',\n",
       " 'kurt',\n",
       " 'kurtosis',\n",
       " 'last',\n",
       " 'last_valid_index',\n",
       " 'le',\n",
       " 'loc',\n",
       " 'lt',\n",
       " 'mad',\n",
       " 'map',\n",
       " 'mask',\n",
       " 'max',\n",
       " 'mean',\n",
       " 'median',\n",
       " 'memory_usage',\n",
       " 'min',\n",
       " 'mod',\n",
       " 'mode',\n",
       " 'mul',\n",
       " 'multiply',\n",
       " 'name',\n",
       " 'nbytes',\n",
       " 'ndim',\n",
       " 'ne',\n",
       " 'nlargest',\n",
       " 'notna',\n",
       " 'notnull',\n",
       " 'nsmallest',\n",
       " 'nunique',\n",
       " 'pct_change',\n",
       " 'pipe',\n",
       " 'plot',\n",
       " 'pop',\n",
       " 'pow',\n",
       " 'prod',\n",
       " 'product',\n",
       " 'quantile',\n",
       " 'radd',\n",
       " 'rank',\n",
       " 'ravel',\n",
       " 'rdiv',\n",
       " 'rdivmod',\n",
       " 'reindex',\n",
       " 'reindex_like',\n",
       " 'rename',\n",
       " 'rename_axis',\n",
       " 'reorder_levels',\n",
       " 'repeat',\n",
       " 'replace',\n",
       " 'resample',\n",
       " 'reset_index',\n",
       " 'rfloordiv',\n",
       " 'rmod',\n",
       " 'rmul',\n",
       " 'rolling',\n",
       " 'round',\n",
       " 'rpow',\n",
       " 'rsub',\n",
       " 'rtruediv',\n",
       " 'sample',\n",
       " 'searchsorted',\n",
       " 'sem',\n",
       " 'set_axis',\n",
       " 'shape',\n",
       " 'shift',\n",
       " 'size',\n",
       " 'skew',\n",
       " 'slice_shift',\n",
       " 'sort_index',\n",
       " 'sort_values',\n",
       " 'squeeze',\n",
       " 'std',\n",
       " 'sub',\n",
       " 'subtract',\n",
       " 'sum',\n",
       " 'swapaxes',\n",
       " 'swaplevel',\n",
       " 'tail',\n",
       " 'take',\n",
       " 'to_clipboard',\n",
       " 'to_csv',\n",
       " 'to_dict',\n",
       " 'to_excel',\n",
       " 'to_frame',\n",
       " 'to_hdf',\n",
       " 'to_json',\n",
       " 'to_latex',\n",
       " 'to_list',\n",
       " 'to_markdown',\n",
       " 'to_numpy',\n",
       " 'to_period',\n",
       " 'to_pickle',\n",
       " 'to_sql',\n",
       " 'to_string',\n",
       " 'to_timestamp',\n",
       " 'to_xarray',\n",
       " 'transform',\n",
       " 'transpose',\n",
       " 'truediv',\n",
       " 'truncate',\n",
       " 'tshift',\n",
       " 'tz_convert',\n",
       " 'tz_localize',\n",
       " 'unique',\n",
       " 'unstack',\n",
       " 'update',\n",
       " 'value_counts',\n",
       " 'values',\n",
       " 'var',\n",
       " 'view',\n",
       " 'where',\n",
       " 'xs']"
      ]
     },
     "execution_count": 18,
     "metadata": {},
     "output_type": "execute_result"
    }
   ],
   "source": [
    "dir(google)"
   ]
  },
  {
   "cell_type": "code",
   "execution_count": 19,
   "metadata": {
    "collapsed": true
   },
   "outputs": [
    {
     "data": {
      "text/plain": [
       "['Abomasnow',\n",
       " 'Abra',\n",
       " 'Absol',\n",
       " 'Accelgor',\n",
       " 'Aegislash',\n",
       " 'Aerodactyl',\n",
       " 'Aggron',\n",
       " 'Aipom',\n",
       " 'Alakazam',\n",
       " 'Alomomola',\n",
       " 'Altaria',\n",
       " 'Amaura',\n",
       " 'Ambipom',\n",
       " 'Amoonguss',\n",
       " 'Ampharos',\n",
       " 'Anorith',\n",
       " 'Arbok',\n",
       " 'Arcanine',\n",
       " 'Arceus',\n",
       " 'Archen',\n",
       " 'Archeops',\n",
       " 'Ariados',\n",
       " 'Armaldo',\n",
       " 'Aromatisse',\n",
       " 'Aron',\n",
       " 'Articuno',\n",
       " 'Audino',\n",
       " 'Aurorus',\n",
       " 'Avalugg',\n",
       " 'Axew',\n",
       " 'Azelf',\n",
       " 'Azumarill',\n",
       " 'Azurill',\n",
       " 'Bagon',\n",
       " 'Baltoy',\n",
       " 'Banette',\n",
       " 'Barbaracle',\n",
       " 'Barboach',\n",
       " 'Basculin',\n",
       " 'Bastiodon',\n",
       " 'Bayleef',\n",
       " 'Beartic',\n",
       " 'Beautifly',\n",
       " 'Beedrill',\n",
       " 'Beheeyem',\n",
       " 'Beldum',\n",
       " 'Bellossom',\n",
       " 'Bellsprout',\n",
       " 'Bergmite',\n",
       " 'Bibarel',\n",
       " 'Bidoof',\n",
       " 'Binacle',\n",
       " 'Bisharp',\n",
       " 'Blastoise',\n",
       " 'Blaziken',\n",
       " 'Blissey',\n",
       " 'Blitzle',\n",
       " 'Boldore',\n",
       " 'Bonsly',\n",
       " 'Bouffalant',\n",
       " 'Braixen',\n",
       " 'Braviary',\n",
       " 'Breloom',\n",
       " 'Bronzong',\n",
       " 'Bronzor',\n",
       " 'Budew',\n",
       " 'Buizel',\n",
       " 'Bulbasaur',\n",
       " 'Buneary',\n",
       " 'Bunnelby',\n",
       " 'Burmy',\n",
       " 'Butterfree',\n",
       " 'Cacnea',\n",
       " 'Cacturne',\n",
       " 'Camerupt',\n",
       " 'Carbink',\n",
       " 'Carnivine',\n",
       " 'Carracosta',\n",
       " 'Carvanha',\n",
       " 'Cascoon',\n",
       " 'Castform',\n",
       " 'Caterpie',\n",
       " 'Celebi',\n",
       " 'Chandelure',\n",
       " 'Chansey',\n",
       " 'Charizard',\n",
       " 'Charmander',\n",
       " 'Charmeleon',\n",
       " 'Chatot',\n",
       " 'Cherrim',\n",
       " 'Cherubi',\n",
       " 'Chesnaught',\n",
       " 'Chespin',\n",
       " 'Chikorita',\n",
       " 'Chimchar',\n",
       " 'Chimecho',\n",
       " 'Chinchou',\n",
       " 'Chingling',\n",
       " 'Cinccino',\n",
       " 'Clamperl',\n",
       " 'Clauncher',\n",
       " 'Clawitzer',\n",
       " 'Claydol',\n",
       " 'Clefable',\n",
       " 'Clefairy',\n",
       " 'Cleffa',\n",
       " 'Cloyster',\n",
       " 'Cobalion',\n",
       " 'Cofagrigus',\n",
       " 'Combee',\n",
       " 'Combusken',\n",
       " 'Conkeldurr',\n",
       " 'Corphish',\n",
       " 'Corsola',\n",
       " 'Cottonee',\n",
       " 'Cradily',\n",
       " 'Cranidos',\n",
       " 'Crawdaunt',\n",
       " 'Cresselia',\n",
       " 'Croagunk',\n",
       " 'Crobat',\n",
       " 'Croconaw',\n",
       " 'Crustle',\n",
       " 'Cryogonal',\n",
       " 'Cubchoo',\n",
       " 'Cubone',\n",
       " 'Cyndaquil',\n",
       " 'Darkrai',\n",
       " 'Darmanitan',\n",
       " 'Darumaka',\n",
       " 'Dedenne',\n",
       " 'Deerling',\n",
       " 'Deino',\n",
       " 'Delcatty',\n",
       " 'Delibird',\n",
       " 'Delphox',\n",
       " 'Deoxys',\n",
       " 'Dewgong',\n",
       " 'Dewott',\n",
       " 'Dialga',\n",
       " 'Diancie',\n",
       " 'Diggersby',\n",
       " 'Diglett',\n",
       " 'Ditto',\n",
       " 'Dodrio',\n",
       " 'Doduo',\n",
       " 'Donphan',\n",
       " 'Doublade',\n",
       " 'Dragalge',\n",
       " 'Dragonair',\n",
       " 'Dragonite',\n",
       " 'Drapion',\n",
       " 'Dratini',\n",
       " 'Drifblim',\n",
       " 'Drifloon',\n",
       " 'Drilbur',\n",
       " 'Drowzee',\n",
       " 'Druddigon',\n",
       " 'Ducklett',\n",
       " 'Dugtrio',\n",
       " 'Dunsparce',\n",
       " 'Duosion',\n",
       " 'Durant',\n",
       " 'Dusclops',\n",
       " 'Dusknoir',\n",
       " 'Duskull',\n",
       " 'Dustox',\n",
       " 'Dwebble',\n",
       " 'Eelektrik',\n",
       " 'Eelektross',\n",
       " 'Eevee',\n",
       " 'Ekans',\n",
       " 'Electabuzz',\n",
       " 'Electivire',\n",
       " 'Electrike',\n",
       " 'Electrode',\n",
       " 'Elekid',\n",
       " 'Elgyem',\n",
       " 'Emboar',\n",
       " 'Emolga',\n",
       " 'Empoleon',\n",
       " 'Entei',\n",
       " 'Escavalier',\n",
       " 'Espeon',\n",
       " 'Espurr',\n",
       " 'Excadrill',\n",
       " 'Exeggcute',\n",
       " 'Exeggutor',\n",
       " 'Exploud',\n",
       " \"Farfetch'd\",\n",
       " 'Fearow',\n",
       " 'Feebas',\n",
       " 'Fennekin',\n",
       " 'Feraligatr',\n",
       " 'Ferroseed',\n",
       " 'Ferrothorn',\n",
       " 'Finneon',\n",
       " 'Flaaffy',\n",
       " 'Flabébé',\n",
       " 'Flareon',\n",
       " 'Fletchinder',\n",
       " 'Fletchling',\n",
       " 'Floatzel',\n",
       " 'Floette',\n",
       " 'Florges',\n",
       " 'Flygon',\n",
       " 'Foongus',\n",
       " 'Forretress',\n",
       " 'Fraxure',\n",
       " 'Frillish',\n",
       " 'Froakie',\n",
       " 'Frogadier',\n",
       " 'Froslass',\n",
       " 'Furfrou',\n",
       " 'Furret',\n",
       " 'Gabite',\n",
       " 'Gallade',\n",
       " 'Galvantula',\n",
       " 'Garbodor',\n",
       " 'Garchomp',\n",
       " 'Gardevoir',\n",
       " 'Gastly',\n",
       " 'Gastrodon',\n",
       " 'Genesect',\n",
       " 'Gengar',\n",
       " 'Geodude',\n",
       " 'Gible',\n",
       " 'Gigalith',\n",
       " 'Girafarig',\n",
       " 'Giratina',\n",
       " 'Glaceon',\n",
       " 'Glalie',\n",
       " 'Glameow',\n",
       " 'Gligar',\n",
       " 'Gliscor',\n",
       " 'Gloom',\n",
       " 'Gogoat',\n",
       " 'Golbat',\n",
       " 'Goldeen',\n",
       " 'Golduck',\n",
       " 'Golem',\n",
       " 'Golett',\n",
       " 'Golurk',\n",
       " 'Goodra',\n",
       " 'Goomy',\n",
       " 'Gorebyss',\n",
       " 'Gothita',\n",
       " 'Gothitelle',\n",
       " 'Gothorita',\n",
       " 'Gourgeist',\n",
       " 'Granbull',\n",
       " 'Graveler',\n",
       " 'Greninja',\n",
       " 'Grimer',\n",
       " 'Grotle',\n",
       " 'Groudon',\n",
       " 'Grovyle',\n",
       " 'Growlithe',\n",
       " 'Grumpig',\n",
       " 'Gulpin',\n",
       " 'Gurdurr',\n",
       " 'Gyarados',\n",
       " 'Happiny',\n",
       " 'Hariyama',\n",
       " 'Haunter',\n",
       " 'Hawlucha',\n",
       " 'Haxorus',\n",
       " 'Heatmor',\n",
       " 'Heatran',\n",
       " 'Heliolisk',\n",
       " 'Helioptile',\n",
       " 'Heracross',\n",
       " 'Herdier',\n",
       " 'Hippopotas',\n",
       " 'Hippowdon',\n",
       " 'Hitmonchan',\n",
       " 'Hitmonlee',\n",
       " 'Hitmontop',\n",
       " 'Ho-oh',\n",
       " 'Honchkrow',\n",
       " 'Honedge',\n",
       " 'Hoopa',\n",
       " 'Hoothoot',\n",
       " 'Hoppip',\n",
       " 'Horsea',\n",
       " 'Houndoom',\n",
       " 'Houndour',\n",
       " 'Huntail',\n",
       " 'Hydreigon',\n",
       " 'Hypno',\n",
       " 'Igglybuff',\n",
       " 'Illumise',\n",
       " 'Infernape',\n",
       " 'Inkay',\n",
       " 'Ivysaur',\n",
       " 'Jellicent',\n",
       " 'Jigglypuff',\n",
       " 'Jirachi',\n",
       " 'Jolteon',\n",
       " 'Joltik',\n",
       " 'Jumpluff',\n",
       " 'Jynx',\n",
       " 'Kabuto',\n",
       " 'Kabutops',\n",
       " 'Kadabra',\n",
       " 'Kakuna',\n",
       " 'Kangaskhan',\n",
       " 'Karrablast',\n",
       " 'Kecleon',\n",
       " 'Keldeo',\n",
       " 'Kingdra',\n",
       " 'Kingler',\n",
       " 'Kirlia',\n",
       " 'Klang',\n",
       " 'Klefki',\n",
       " 'Klink',\n",
       " 'Klinklang',\n",
       " 'Koffing',\n",
       " 'Krabby',\n",
       " 'Kricketot',\n",
       " 'Kricketune',\n",
       " 'Krokorok',\n",
       " 'Krookodile',\n",
       " 'Kyogre',\n",
       " 'Kyurem',\n",
       " 'Lairon',\n",
       " 'Lampent',\n",
       " 'Landorus',\n",
       " 'Lanturn',\n",
       " 'Lapras',\n",
       " 'Larvesta',\n",
       " 'Larvitar',\n",
       " 'Latias',\n",
       " 'Latios',\n",
       " 'Leafeon',\n",
       " 'Leavanny',\n",
       " 'Ledian',\n",
       " 'Ledyba',\n",
       " 'Lickilicky',\n",
       " 'Lickitung',\n",
       " 'Liepard',\n",
       " 'Lileep',\n",
       " 'Lilligant',\n",
       " 'Lillipup',\n",
       " 'Linoone',\n",
       " 'Litleo',\n",
       " 'Litwick',\n",
       " 'Lombre',\n",
       " 'Lopunny',\n",
       " 'Lotad',\n",
       " 'Loudred',\n",
       " 'Lucario',\n",
       " 'Ludicolo',\n",
       " 'Lugia',\n",
       " 'Lumineon',\n",
       " 'Lunatone',\n",
       " 'Luvdisc',\n",
       " 'Luxio',\n",
       " 'Luxray',\n",
       " 'Machamp',\n",
       " 'Machoke',\n",
       " 'Machop',\n",
       " 'Magby',\n",
       " 'Magcargo',\n",
       " 'Magikarp',\n",
       " 'Magmar',\n",
       " 'Magmortar',\n",
       " 'Magnemite',\n",
       " 'Magneton',\n",
       " 'Magnezone',\n",
       " 'Makuhita',\n",
       " 'Malamar',\n",
       " 'Mamoswine',\n",
       " 'Manaphy',\n",
       " 'Mandibuzz',\n",
       " 'Manectric',\n",
       " 'Mankey',\n",
       " 'Mantine',\n",
       " 'Mantyke',\n",
       " 'Maractus',\n",
       " 'Mareep',\n",
       " 'Marill',\n",
       " 'Marowak',\n",
       " 'Marshtomp',\n",
       " 'Masquerain',\n",
       " 'Mawile',\n",
       " 'Medicham',\n",
       " 'Meditite',\n",
       " 'Meganium',\n",
       " 'Meloetta',\n",
       " 'Meowstic',\n",
       " 'Meowth',\n",
       " 'Mesprit',\n",
       " 'Metagross',\n",
       " 'Metang',\n",
       " 'Metapod',\n",
       " 'Mew',\n",
       " 'Mewtwo',\n",
       " 'Mienfoo',\n",
       " 'Mienshao',\n",
       " 'Mightyena',\n",
       " 'Milotic',\n",
       " 'Miltank',\n",
       " 'Mime Jr.',\n",
       " 'Minccino',\n",
       " 'Minun',\n",
       " 'Misdreavus',\n",
       " 'Mismagius',\n",
       " 'Moltres',\n",
       " 'Monferno',\n",
       " 'Mothim',\n",
       " 'Mr. Mime',\n",
       " 'Mudkip',\n",
       " 'Muk',\n",
       " 'Munchlax',\n",
       " 'Munna',\n",
       " 'Murkrow',\n",
       " 'Musharna',\n",
       " 'Natu',\n",
       " 'Nidoking',\n",
       " 'Nidoqueen',\n",
       " 'Nidoran',\n",
       " 'Nidoran♂',\n",
       " 'Nidorina',\n",
       " 'Nidorino',\n",
       " 'Nincada',\n",
       " 'Ninetales',\n",
       " 'Ninjask',\n",
       " 'Noctowl',\n",
       " 'Noibat',\n",
       " 'Noivern',\n",
       " 'Nosepass',\n",
       " 'Numel',\n",
       " 'Nuzleaf',\n",
       " 'Octillery',\n",
       " 'Oddish',\n",
       " 'Omanyte',\n",
       " 'Omastar',\n",
       " 'Onix',\n",
       " 'Oshawott',\n",
       " 'Pachirisu',\n",
       " 'Palkia',\n",
       " 'Palpitoad',\n",
       " 'Pancham',\n",
       " 'Pangoro',\n",
       " 'Panpour',\n",
       " 'Pansage',\n",
       " 'Pansear',\n",
       " 'Paras',\n",
       " 'Parasect',\n",
       " 'Patrat',\n",
       " 'Pawniard',\n",
       " 'Pelipper',\n",
       " 'Persian',\n",
       " 'Petilil',\n",
       " 'Phanpy',\n",
       " 'Phantump',\n",
       " 'Phione',\n",
       " 'Pichu',\n",
       " 'Pidgeot',\n",
       " 'Pidgeotto',\n",
       " 'Pidgey',\n",
       " 'Pidove',\n",
       " 'Pignite',\n",
       " 'Pikachu',\n",
       " 'Piloswine',\n",
       " 'Pineco',\n",
       " 'Pinsir',\n",
       " 'Piplup',\n",
       " 'Plusle',\n",
       " 'Politoed',\n",
       " 'Poliwag',\n",
       " 'Poliwhirl',\n",
       " 'Poliwrath',\n",
       " 'Ponyta',\n",
       " 'Poochyena',\n",
       " 'Porygon',\n",
       " 'Porygon-Z',\n",
       " 'Porygon2',\n",
       " 'Primeape',\n",
       " 'Prinplup',\n",
       " 'Probopass',\n",
       " 'Psyduck',\n",
       " 'Pumpkaboo',\n",
       " 'Pupitar',\n",
       " 'Purrloin',\n",
       " 'Purugly',\n",
       " 'Pyroar',\n",
       " 'Quagsire',\n",
       " 'Quilava',\n",
       " 'Quilladin',\n",
       " 'Qwilfish',\n",
       " 'Raichu',\n",
       " 'Raikou',\n",
       " 'Ralts',\n",
       " 'Rampardos',\n",
       " 'Rapidash',\n",
       " 'Raticate',\n",
       " 'Rattata',\n",
       " 'Rayquaza',\n",
       " 'Regice',\n",
       " 'Regigigas',\n",
       " 'Regirock',\n",
       " 'Registeel',\n",
       " 'Relicanth',\n",
       " 'Remoraid',\n",
       " 'Reshiram',\n",
       " 'Reuniclus',\n",
       " 'Rhydon',\n",
       " 'Rhyhorn',\n",
       " 'Rhyperior',\n",
       " 'Riolu',\n",
       " 'Roggenrola',\n",
       " 'Roselia',\n",
       " 'Roserade',\n",
       " 'Rotom',\n",
       " 'Rufflet',\n",
       " 'Sableye',\n",
       " 'Salamence',\n",
       " 'Samurott',\n",
       " 'Sandile',\n",
       " 'Sandshrew',\n",
       " 'Sandslash',\n",
       " 'Sawk',\n",
       " 'Sawsbuck',\n",
       " 'Scatterbug',\n",
       " 'Sceptile',\n",
       " 'Scizor',\n",
       " 'Scolipede',\n",
       " 'Scrafty',\n",
       " 'Scraggy',\n",
       " 'Scyther',\n",
       " 'Seadra',\n",
       " 'Seaking',\n",
       " 'Sealeo',\n",
       " 'Seedot',\n",
       " 'Seel',\n",
       " 'Seismitoad',\n",
       " 'Sentret',\n",
       " 'Serperior',\n",
       " 'Servine',\n",
       " 'Seviper',\n",
       " 'Sewaddle',\n",
       " 'Sharpedo',\n",
       " 'Shaymin',\n",
       " 'Shedinja',\n",
       " 'Shelgon',\n",
       " 'Shellder',\n",
       " 'Shellos',\n",
       " 'Shelmet',\n",
       " 'Shieldon',\n",
       " 'Shiftry',\n",
       " 'Shinx',\n",
       " 'Shroomish',\n",
       " 'Shuckle',\n",
       " 'Shuppet',\n",
       " 'Sigilyph',\n",
       " 'Silcoon',\n",
       " 'Simipour',\n",
       " 'Simisage',\n",
       " 'Simisear',\n",
       " 'Skarmory',\n",
       " 'Skiddo',\n",
       " 'Skiploom',\n",
       " 'Skitty',\n",
       " 'Skorupi',\n",
       " 'Skrelp',\n",
       " 'Skuntank',\n",
       " 'Slaking',\n",
       " 'Slakoth',\n",
       " 'Sliggoo',\n",
       " 'Slowbro',\n",
       " 'Slowking',\n",
       " 'Slowpoke',\n",
       " 'Slugma',\n",
       " 'Slurpuff',\n",
       " 'Smeargle',\n",
       " 'Smoochum',\n",
       " 'Sneasel',\n",
       " 'Snivy',\n",
       " 'Snorlax',\n",
       " 'Snorunt',\n",
       " 'Snover',\n",
       " 'Snubbull',\n",
       " 'Solosis',\n",
       " 'Solrock',\n",
       " 'Spearow',\n",
       " 'Spewpa',\n",
       " 'Spheal',\n",
       " 'Spinarak',\n",
       " 'Spinda',\n",
       " 'Spiritomb',\n",
       " 'Spoink',\n",
       " 'Spritzee',\n",
       " 'Squirtle',\n",
       " 'Stantler',\n",
       " 'Staraptor',\n",
       " 'Staravia',\n",
       " 'Starly',\n",
       " 'Starmie',\n",
       " 'Staryu',\n",
       " 'Steelix',\n",
       " 'Stoutland',\n",
       " 'Stunfisk',\n",
       " 'Stunky',\n",
       " 'Sudowoodo',\n",
       " 'Suicune',\n",
       " 'Sunflora',\n",
       " 'Sunkern',\n",
       " 'Surskit',\n",
       " 'Swablu',\n",
       " 'Swadloon',\n",
       " 'Swalot',\n",
       " 'Swampert',\n",
       " 'Swanna',\n",
       " 'Swellow',\n",
       " 'Swinub',\n",
       " 'Swirlix',\n",
       " 'Swoobat',\n",
       " 'Sylveon',\n",
       " 'Taillow',\n",
       " 'Talonflame',\n",
       " 'Tangela',\n",
       " 'Tangrowth',\n",
       " 'Tauros',\n",
       " 'Teddiursa',\n",
       " 'Tentacool',\n",
       " 'Tentacruel',\n",
       " 'Tepig',\n",
       " 'Terrakion',\n",
       " 'Throh',\n",
       " 'Thundurus',\n",
       " 'Timburr',\n",
       " 'Tirtouga',\n",
       " 'Togekiss',\n",
       " 'Togepi',\n",
       " 'Togetic',\n",
       " 'Torchic',\n",
       " 'Torkoal',\n",
       " 'Tornadus',\n",
       " 'Torterra',\n",
       " 'Totodile',\n",
       " 'Toxicroak',\n",
       " 'Tranquill',\n",
       " 'Trapinch',\n",
       " 'Treecko',\n",
       " 'Trevenant',\n",
       " 'Tropius',\n",
       " 'Trubbish',\n",
       " 'Turtwig',\n",
       " 'Tympole',\n",
       " 'Tynamo',\n",
       " 'Typhlosion',\n",
       " 'Tyranitar',\n",
       " 'Tyrantrum',\n",
       " 'Tyrogue',\n",
       " 'Tyrunt',\n",
       " 'Umbreon',\n",
       " 'Unfezant',\n",
       " 'Unown',\n",
       " 'Ursaring',\n",
       " 'Uxie',\n",
       " 'Vanillish',\n",
       " 'Vanillite',\n",
       " 'Vanilluxe',\n",
       " 'Vaporeon',\n",
       " 'Venipede',\n",
       " 'Venomoth',\n",
       " 'Venonat',\n",
       " 'Venusaur',\n",
       " 'Vespiquen',\n",
       " 'Vibrava',\n",
       " 'Victini',\n",
       " 'Victreebel',\n",
       " 'Vigoroth',\n",
       " 'Vileplume',\n",
       " 'Virizion',\n",
       " 'Vivillon',\n",
       " 'Volbeat',\n",
       " 'Volcanion',\n",
       " 'Volcarona',\n",
       " 'Voltorb',\n",
       " 'Vullaby',\n",
       " 'Vulpix',\n",
       " 'Wailmer',\n",
       " 'Wailord',\n",
       " 'Walrein',\n",
       " 'Wartortle',\n",
       " 'Watchog',\n",
       " 'Weavile',\n",
       " 'Weedle',\n",
       " 'Weepinbell',\n",
       " 'Weezing',\n",
       " 'Whimsicott',\n",
       " 'Whirlipede',\n",
       " 'Whiscash',\n",
       " 'Whismur',\n",
       " 'Wigglytuff',\n",
       " 'Wingull',\n",
       " 'Wobbuffet',\n",
       " 'Woobat',\n",
       " 'Wooper',\n",
       " 'Wormadam',\n",
       " 'Wurmple',\n",
       " 'Wynaut',\n",
       " 'Xatu',\n",
       " 'Xerneas',\n",
       " 'Yamask',\n",
       " 'Yanma',\n",
       " 'Yanmega',\n",
       " 'Yveltal',\n",
       " 'Zangoose',\n",
       " 'Zapdos',\n",
       " 'Zebstrika',\n",
       " 'Zekrom',\n",
       " 'Zigzagoon',\n",
       " 'Zoroark',\n",
       " 'Zorua',\n",
       " 'Zubat',\n",
       " 'Zweilous',\n",
       " 'Zygarde']"
      ]
     },
     "execution_count": 19,
     "metadata": {},
     "output_type": "execute_result"
    }
   ],
   "source": [
    "sorted(pokemon)"
   ]
  },
  {
   "cell_type": "code",
   "execution_count": 20,
   "metadata": {
    "collapsed": true
   },
   "outputs": [
    {
     "data": {
      "text/plain": [
       "['Bulbasaur',\n",
       " 'Ivysaur',\n",
       " 'Venusaur',\n",
       " 'Charmander',\n",
       " 'Charmeleon',\n",
       " 'Charizard',\n",
       " 'Squirtle',\n",
       " 'Wartortle',\n",
       " 'Blastoise',\n",
       " 'Caterpie',\n",
       " 'Metapod',\n",
       " 'Butterfree',\n",
       " 'Weedle',\n",
       " 'Kakuna',\n",
       " 'Beedrill',\n",
       " 'Pidgey',\n",
       " 'Pidgeotto',\n",
       " 'Pidgeot',\n",
       " 'Rattata',\n",
       " 'Raticate',\n",
       " 'Spearow',\n",
       " 'Fearow',\n",
       " 'Ekans',\n",
       " 'Arbok',\n",
       " 'Pikachu',\n",
       " 'Raichu',\n",
       " 'Sandshrew',\n",
       " 'Sandslash',\n",
       " 'Nidoran',\n",
       " 'Nidorina',\n",
       " 'Nidoqueen',\n",
       " 'Nidoran♂',\n",
       " 'Nidorino',\n",
       " 'Nidoking',\n",
       " 'Clefairy',\n",
       " 'Clefable',\n",
       " 'Vulpix',\n",
       " 'Ninetales',\n",
       " 'Jigglypuff',\n",
       " 'Wigglytuff',\n",
       " 'Zubat',\n",
       " 'Golbat',\n",
       " 'Oddish',\n",
       " 'Gloom',\n",
       " 'Vileplume',\n",
       " 'Paras',\n",
       " 'Parasect',\n",
       " 'Venonat',\n",
       " 'Venomoth',\n",
       " 'Diglett',\n",
       " 'Dugtrio',\n",
       " 'Meowth',\n",
       " 'Persian',\n",
       " 'Psyduck',\n",
       " 'Golduck',\n",
       " 'Mankey',\n",
       " 'Primeape',\n",
       " 'Growlithe',\n",
       " 'Arcanine',\n",
       " 'Poliwag',\n",
       " 'Poliwhirl',\n",
       " 'Poliwrath',\n",
       " 'Abra',\n",
       " 'Kadabra',\n",
       " 'Alakazam',\n",
       " 'Machop',\n",
       " 'Machoke',\n",
       " 'Machamp',\n",
       " 'Bellsprout',\n",
       " 'Weepinbell',\n",
       " 'Victreebel',\n",
       " 'Tentacool',\n",
       " 'Tentacruel',\n",
       " 'Geodude',\n",
       " 'Graveler',\n",
       " 'Golem',\n",
       " 'Ponyta',\n",
       " 'Rapidash',\n",
       " 'Slowpoke',\n",
       " 'Slowbro',\n",
       " 'Magnemite',\n",
       " 'Magneton',\n",
       " \"Farfetch'd\",\n",
       " 'Doduo',\n",
       " 'Dodrio',\n",
       " 'Seel',\n",
       " 'Dewgong',\n",
       " 'Grimer',\n",
       " 'Muk',\n",
       " 'Shellder',\n",
       " 'Cloyster',\n",
       " 'Gastly',\n",
       " 'Haunter',\n",
       " 'Gengar',\n",
       " 'Onix',\n",
       " 'Drowzee',\n",
       " 'Hypno',\n",
       " 'Krabby',\n",
       " 'Kingler',\n",
       " 'Voltorb',\n",
       " 'Electrode',\n",
       " 'Exeggcute',\n",
       " 'Exeggutor',\n",
       " 'Cubone',\n",
       " 'Marowak',\n",
       " 'Hitmonlee',\n",
       " 'Hitmonchan',\n",
       " 'Lickitung',\n",
       " 'Koffing',\n",
       " 'Weezing',\n",
       " 'Rhyhorn',\n",
       " 'Rhydon',\n",
       " 'Chansey',\n",
       " 'Tangela',\n",
       " 'Kangaskhan',\n",
       " 'Horsea',\n",
       " 'Seadra',\n",
       " 'Goldeen',\n",
       " 'Seaking',\n",
       " 'Staryu',\n",
       " 'Starmie',\n",
       " 'Mr. Mime',\n",
       " 'Scyther',\n",
       " 'Jynx',\n",
       " 'Electabuzz',\n",
       " 'Magmar',\n",
       " 'Pinsir',\n",
       " 'Tauros',\n",
       " 'Magikarp',\n",
       " 'Gyarados',\n",
       " 'Lapras',\n",
       " 'Ditto',\n",
       " 'Eevee',\n",
       " 'Vaporeon',\n",
       " 'Jolteon',\n",
       " 'Flareon',\n",
       " 'Porygon',\n",
       " 'Omanyte',\n",
       " 'Omastar',\n",
       " 'Kabuto',\n",
       " 'Kabutops',\n",
       " 'Aerodactyl',\n",
       " 'Snorlax',\n",
       " 'Articuno',\n",
       " 'Zapdos',\n",
       " 'Moltres',\n",
       " 'Dratini',\n",
       " 'Dragonair',\n",
       " 'Dragonite',\n",
       " 'Mewtwo',\n",
       " 'Mew',\n",
       " 'Chikorita',\n",
       " 'Bayleef',\n",
       " 'Meganium',\n",
       " 'Cyndaquil',\n",
       " 'Quilava',\n",
       " 'Typhlosion',\n",
       " 'Totodile',\n",
       " 'Croconaw',\n",
       " 'Feraligatr',\n",
       " 'Sentret',\n",
       " 'Furret',\n",
       " 'Hoothoot',\n",
       " 'Noctowl',\n",
       " 'Ledyba',\n",
       " 'Ledian',\n",
       " 'Spinarak',\n",
       " 'Ariados',\n",
       " 'Crobat',\n",
       " 'Chinchou',\n",
       " 'Lanturn',\n",
       " 'Pichu',\n",
       " 'Cleffa',\n",
       " 'Igglybuff',\n",
       " 'Togepi',\n",
       " 'Togetic',\n",
       " 'Natu',\n",
       " 'Xatu',\n",
       " 'Mareep',\n",
       " 'Flaaffy',\n",
       " 'Ampharos',\n",
       " 'Bellossom',\n",
       " 'Marill',\n",
       " 'Azumarill',\n",
       " 'Sudowoodo',\n",
       " 'Politoed',\n",
       " 'Hoppip',\n",
       " 'Skiploom',\n",
       " 'Jumpluff',\n",
       " 'Aipom',\n",
       " 'Sunkern',\n",
       " 'Sunflora',\n",
       " 'Yanma',\n",
       " 'Wooper',\n",
       " 'Quagsire',\n",
       " 'Espeon',\n",
       " 'Umbreon',\n",
       " 'Murkrow',\n",
       " 'Slowking',\n",
       " 'Misdreavus',\n",
       " 'Unown',\n",
       " 'Wobbuffet',\n",
       " 'Girafarig',\n",
       " 'Pineco',\n",
       " 'Forretress',\n",
       " 'Dunsparce',\n",
       " 'Gligar',\n",
       " 'Steelix',\n",
       " 'Snubbull',\n",
       " 'Granbull',\n",
       " 'Qwilfish',\n",
       " 'Scizor',\n",
       " 'Shuckle',\n",
       " 'Heracross',\n",
       " 'Sneasel',\n",
       " 'Teddiursa',\n",
       " 'Ursaring',\n",
       " 'Slugma',\n",
       " 'Magcargo',\n",
       " 'Swinub',\n",
       " 'Piloswine',\n",
       " 'Corsola',\n",
       " 'Remoraid',\n",
       " 'Octillery',\n",
       " 'Delibird',\n",
       " 'Mantine',\n",
       " 'Skarmory',\n",
       " 'Houndour',\n",
       " 'Houndoom',\n",
       " 'Kingdra',\n",
       " 'Phanpy',\n",
       " 'Donphan',\n",
       " 'Porygon2',\n",
       " 'Stantler',\n",
       " 'Smeargle',\n",
       " 'Tyrogue',\n",
       " 'Hitmontop',\n",
       " 'Smoochum',\n",
       " 'Elekid',\n",
       " 'Magby',\n",
       " 'Miltank',\n",
       " 'Blissey',\n",
       " 'Raikou',\n",
       " 'Entei',\n",
       " 'Suicune',\n",
       " 'Larvitar',\n",
       " 'Pupitar',\n",
       " 'Tyranitar',\n",
       " 'Lugia',\n",
       " 'Ho-oh',\n",
       " 'Celebi',\n",
       " 'Treecko',\n",
       " 'Grovyle',\n",
       " 'Sceptile',\n",
       " 'Torchic',\n",
       " 'Combusken',\n",
       " 'Blaziken',\n",
       " 'Mudkip',\n",
       " 'Marshtomp',\n",
       " 'Swampert',\n",
       " 'Poochyena',\n",
       " 'Mightyena',\n",
       " 'Zigzagoon',\n",
       " 'Linoone',\n",
       " 'Wurmple',\n",
       " 'Silcoon',\n",
       " 'Beautifly',\n",
       " 'Cascoon',\n",
       " 'Dustox',\n",
       " 'Lotad',\n",
       " 'Lombre',\n",
       " 'Ludicolo',\n",
       " 'Seedot',\n",
       " 'Nuzleaf',\n",
       " 'Shiftry',\n",
       " 'Taillow',\n",
       " 'Swellow',\n",
       " 'Wingull',\n",
       " 'Pelipper',\n",
       " 'Ralts',\n",
       " 'Kirlia',\n",
       " 'Gardevoir',\n",
       " 'Surskit',\n",
       " 'Masquerain',\n",
       " 'Shroomish',\n",
       " 'Breloom',\n",
       " 'Slakoth',\n",
       " 'Vigoroth',\n",
       " 'Slaking',\n",
       " 'Nincada',\n",
       " 'Ninjask',\n",
       " 'Shedinja',\n",
       " 'Whismur',\n",
       " 'Loudred',\n",
       " 'Exploud',\n",
       " 'Makuhita',\n",
       " 'Hariyama',\n",
       " 'Azurill',\n",
       " 'Nosepass',\n",
       " 'Skitty',\n",
       " 'Delcatty',\n",
       " 'Sableye',\n",
       " 'Mawile',\n",
       " 'Aron',\n",
       " 'Lairon',\n",
       " 'Aggron',\n",
       " 'Meditite',\n",
       " 'Medicham',\n",
       " 'Electrike',\n",
       " 'Manectric',\n",
       " 'Plusle',\n",
       " 'Minun',\n",
       " 'Volbeat',\n",
       " 'Illumise',\n",
       " 'Roselia',\n",
       " 'Gulpin',\n",
       " 'Swalot',\n",
       " 'Carvanha',\n",
       " 'Sharpedo',\n",
       " 'Wailmer',\n",
       " 'Wailord',\n",
       " 'Numel',\n",
       " 'Camerupt',\n",
       " 'Torkoal',\n",
       " 'Spoink',\n",
       " 'Grumpig',\n",
       " 'Spinda',\n",
       " 'Trapinch',\n",
       " 'Vibrava',\n",
       " 'Flygon',\n",
       " 'Cacnea',\n",
       " 'Cacturne',\n",
       " 'Swablu',\n",
       " 'Altaria',\n",
       " 'Zangoose',\n",
       " 'Seviper',\n",
       " 'Lunatone',\n",
       " 'Solrock',\n",
       " 'Barboach',\n",
       " 'Whiscash',\n",
       " 'Corphish',\n",
       " 'Crawdaunt',\n",
       " 'Baltoy',\n",
       " 'Claydol',\n",
       " 'Lileep',\n",
       " 'Cradily',\n",
       " 'Anorith',\n",
       " 'Armaldo',\n",
       " 'Feebas',\n",
       " 'Milotic',\n",
       " 'Castform',\n",
       " 'Kecleon',\n",
       " 'Shuppet',\n",
       " 'Banette',\n",
       " 'Duskull',\n",
       " 'Dusclops',\n",
       " 'Tropius',\n",
       " 'Chimecho',\n",
       " 'Absol',\n",
       " 'Wynaut',\n",
       " 'Snorunt',\n",
       " 'Glalie',\n",
       " 'Spheal',\n",
       " 'Sealeo',\n",
       " 'Walrein',\n",
       " 'Clamperl',\n",
       " 'Huntail',\n",
       " 'Gorebyss',\n",
       " 'Relicanth',\n",
       " 'Luvdisc',\n",
       " 'Bagon',\n",
       " 'Shelgon',\n",
       " 'Salamence',\n",
       " 'Beldum',\n",
       " 'Metang',\n",
       " 'Metagross',\n",
       " 'Regirock',\n",
       " 'Regice',\n",
       " 'Registeel',\n",
       " 'Latias',\n",
       " 'Latios',\n",
       " 'Kyogre',\n",
       " 'Groudon',\n",
       " 'Rayquaza',\n",
       " 'Jirachi',\n",
       " 'Deoxys',\n",
       " 'Turtwig',\n",
       " 'Grotle',\n",
       " 'Torterra',\n",
       " 'Chimchar',\n",
       " 'Monferno',\n",
       " 'Infernape',\n",
       " 'Piplup',\n",
       " 'Prinplup',\n",
       " 'Empoleon',\n",
       " 'Starly',\n",
       " 'Staravia',\n",
       " 'Staraptor',\n",
       " 'Bidoof',\n",
       " 'Bibarel',\n",
       " 'Kricketot',\n",
       " 'Kricketune',\n",
       " 'Shinx',\n",
       " 'Luxio',\n",
       " 'Luxray',\n",
       " 'Budew',\n",
       " 'Roserade',\n",
       " 'Cranidos',\n",
       " 'Rampardos',\n",
       " 'Shieldon',\n",
       " 'Bastiodon',\n",
       " 'Burmy',\n",
       " 'Wormadam',\n",
       " 'Mothim',\n",
       " 'Combee',\n",
       " 'Vespiquen',\n",
       " 'Pachirisu',\n",
       " 'Buizel',\n",
       " 'Floatzel',\n",
       " 'Cherubi',\n",
       " 'Cherrim',\n",
       " 'Shellos',\n",
       " 'Gastrodon',\n",
       " 'Ambipom',\n",
       " 'Drifloon',\n",
       " 'Drifblim',\n",
       " 'Buneary',\n",
       " 'Lopunny',\n",
       " 'Mismagius',\n",
       " 'Honchkrow',\n",
       " 'Glameow',\n",
       " 'Purugly',\n",
       " 'Chingling',\n",
       " 'Stunky',\n",
       " 'Skuntank',\n",
       " 'Bronzor',\n",
       " 'Bronzong',\n",
       " 'Bonsly',\n",
       " 'Mime Jr.',\n",
       " 'Happiny',\n",
       " 'Chatot',\n",
       " 'Spiritomb',\n",
       " 'Gible',\n",
       " 'Gabite',\n",
       " 'Garchomp',\n",
       " 'Munchlax',\n",
       " 'Riolu',\n",
       " 'Lucario',\n",
       " 'Hippopotas',\n",
       " 'Hippowdon',\n",
       " 'Skorupi',\n",
       " 'Drapion',\n",
       " 'Croagunk',\n",
       " 'Toxicroak',\n",
       " 'Carnivine',\n",
       " 'Finneon',\n",
       " 'Lumineon',\n",
       " 'Mantyke',\n",
       " 'Snover',\n",
       " 'Abomasnow',\n",
       " 'Weavile',\n",
       " 'Magnezone',\n",
       " 'Lickilicky',\n",
       " 'Rhyperior',\n",
       " 'Tangrowth',\n",
       " 'Electivire',\n",
       " 'Magmortar',\n",
       " 'Togekiss',\n",
       " 'Yanmega',\n",
       " 'Leafeon',\n",
       " 'Glaceon',\n",
       " 'Gliscor',\n",
       " 'Mamoswine',\n",
       " 'Porygon-Z',\n",
       " 'Gallade',\n",
       " 'Probopass',\n",
       " 'Dusknoir',\n",
       " 'Froslass',\n",
       " 'Rotom',\n",
       " 'Uxie',\n",
       " 'Mesprit',\n",
       " 'Azelf',\n",
       " 'Dialga',\n",
       " 'Palkia',\n",
       " 'Heatran',\n",
       " 'Regigigas',\n",
       " 'Giratina',\n",
       " 'Cresselia',\n",
       " 'Phione',\n",
       " 'Manaphy',\n",
       " 'Darkrai',\n",
       " 'Shaymin',\n",
       " 'Arceus',\n",
       " 'Victini',\n",
       " 'Snivy',\n",
       " 'Servine',\n",
       " 'Serperior',\n",
       " 'Tepig',\n",
       " 'Pignite',\n",
       " 'Emboar',\n",
       " 'Oshawott',\n",
       " 'Dewott',\n",
       " 'Samurott',\n",
       " 'Patrat',\n",
       " 'Watchog',\n",
       " 'Lillipup',\n",
       " 'Herdier',\n",
       " 'Stoutland',\n",
       " 'Purrloin',\n",
       " 'Liepard',\n",
       " 'Pansage',\n",
       " 'Simisage',\n",
       " 'Pansear',\n",
       " 'Simisear',\n",
       " 'Panpour',\n",
       " 'Simipour',\n",
       " 'Munna',\n",
       " 'Musharna',\n",
       " 'Pidove',\n",
       " 'Tranquill',\n",
       " 'Unfezant',\n",
       " 'Blitzle',\n",
       " 'Zebstrika',\n",
       " 'Roggenrola',\n",
       " 'Boldore',\n",
       " 'Gigalith',\n",
       " 'Woobat',\n",
       " 'Swoobat',\n",
       " 'Drilbur',\n",
       " 'Excadrill',\n",
       " 'Audino',\n",
       " 'Timburr',\n",
       " 'Gurdurr',\n",
       " 'Conkeldurr',\n",
       " 'Tympole',\n",
       " 'Palpitoad',\n",
       " 'Seismitoad',\n",
       " 'Throh',\n",
       " 'Sawk',\n",
       " 'Sewaddle',\n",
       " 'Swadloon',\n",
       " 'Leavanny',\n",
       " 'Venipede',\n",
       " 'Whirlipede',\n",
       " 'Scolipede',\n",
       " 'Cottonee',\n",
       " 'Whimsicott',\n",
       " 'Petilil',\n",
       " 'Lilligant',\n",
       " 'Basculin',\n",
       " 'Sandile',\n",
       " 'Krokorok',\n",
       " 'Krookodile',\n",
       " 'Darumaka',\n",
       " 'Darmanitan',\n",
       " 'Maractus',\n",
       " 'Dwebble',\n",
       " 'Crustle',\n",
       " 'Scraggy',\n",
       " 'Scrafty',\n",
       " 'Sigilyph',\n",
       " 'Yamask',\n",
       " 'Cofagrigus',\n",
       " 'Tirtouga',\n",
       " 'Carracosta',\n",
       " 'Archen',\n",
       " 'Archeops',\n",
       " 'Trubbish',\n",
       " 'Garbodor',\n",
       " 'Zorua',\n",
       " 'Zoroark',\n",
       " 'Minccino',\n",
       " 'Cinccino',\n",
       " 'Gothita',\n",
       " 'Gothorita',\n",
       " 'Gothitelle',\n",
       " 'Solosis',\n",
       " 'Duosion',\n",
       " 'Reuniclus',\n",
       " 'Ducklett',\n",
       " 'Swanna',\n",
       " 'Vanillite',\n",
       " 'Vanillish',\n",
       " 'Vanilluxe',\n",
       " 'Deerling',\n",
       " 'Sawsbuck',\n",
       " 'Emolga',\n",
       " 'Karrablast',\n",
       " 'Escavalier',\n",
       " 'Foongus',\n",
       " 'Amoonguss',\n",
       " 'Frillish',\n",
       " 'Jellicent',\n",
       " 'Alomomola',\n",
       " 'Joltik',\n",
       " 'Galvantula',\n",
       " 'Ferroseed',\n",
       " 'Ferrothorn',\n",
       " 'Klink',\n",
       " 'Klang',\n",
       " 'Klinklang',\n",
       " 'Tynamo',\n",
       " 'Eelektrik',\n",
       " 'Eelektross',\n",
       " 'Elgyem',\n",
       " 'Beheeyem',\n",
       " 'Litwick',\n",
       " 'Lampent',\n",
       " 'Chandelure',\n",
       " 'Axew',\n",
       " 'Fraxure',\n",
       " 'Haxorus',\n",
       " 'Cubchoo',\n",
       " 'Beartic',\n",
       " 'Cryogonal',\n",
       " 'Shelmet',\n",
       " 'Accelgor',\n",
       " 'Stunfisk',\n",
       " 'Mienfoo',\n",
       " 'Mienshao',\n",
       " 'Druddigon',\n",
       " 'Golett',\n",
       " 'Golurk',\n",
       " 'Pawniard',\n",
       " 'Bisharp',\n",
       " 'Bouffalant',\n",
       " 'Rufflet',\n",
       " 'Braviary',\n",
       " 'Vullaby',\n",
       " 'Mandibuzz',\n",
       " 'Heatmor',\n",
       " 'Durant',\n",
       " 'Deino',\n",
       " 'Zweilous',\n",
       " 'Hydreigon',\n",
       " 'Larvesta',\n",
       " 'Volcarona',\n",
       " 'Cobalion',\n",
       " 'Terrakion',\n",
       " 'Virizion',\n",
       " 'Tornadus',\n",
       " 'Thundurus',\n",
       " 'Reshiram',\n",
       " 'Zekrom',\n",
       " 'Landorus',\n",
       " 'Kyurem',\n",
       " 'Keldeo',\n",
       " 'Meloetta',\n",
       " 'Genesect',\n",
       " 'Chespin',\n",
       " 'Quilladin',\n",
       " 'Chesnaught',\n",
       " 'Fennekin',\n",
       " 'Braixen',\n",
       " 'Delphox',\n",
       " 'Froakie',\n",
       " 'Frogadier',\n",
       " 'Greninja',\n",
       " 'Bunnelby',\n",
       " 'Diggersby',\n",
       " 'Fletchling',\n",
       " 'Fletchinder',\n",
       " 'Talonflame',\n",
       " 'Scatterbug',\n",
       " 'Spewpa',\n",
       " 'Vivillon',\n",
       " 'Litleo',\n",
       " 'Pyroar',\n",
       " 'Flabébé',\n",
       " 'Floette',\n",
       " 'Florges',\n",
       " 'Skiddo',\n",
       " 'Gogoat',\n",
       " 'Pancham',\n",
       " 'Pangoro',\n",
       " 'Furfrou',\n",
       " 'Espurr',\n",
       " 'Meowstic',\n",
       " 'Honedge',\n",
       " 'Doublade',\n",
       " 'Aegislash',\n",
       " 'Spritzee',\n",
       " 'Aromatisse',\n",
       " 'Swirlix',\n",
       " 'Slurpuff',\n",
       " 'Inkay',\n",
       " 'Malamar',\n",
       " 'Binacle',\n",
       " 'Barbaracle',\n",
       " 'Skrelp',\n",
       " 'Dragalge',\n",
       " 'Clauncher',\n",
       " 'Clawitzer',\n",
       " 'Helioptile',\n",
       " 'Heliolisk',\n",
       " 'Tyrunt',\n",
       " 'Tyrantrum',\n",
       " 'Amaura',\n",
       " 'Aurorus',\n",
       " 'Sylveon',\n",
       " 'Hawlucha',\n",
       " 'Dedenne',\n",
       " 'Carbink',\n",
       " 'Goomy',\n",
       " 'Sliggoo',\n",
       " 'Goodra',\n",
       " 'Klefki',\n",
       " 'Phantump',\n",
       " 'Trevenant',\n",
       " 'Pumpkaboo',\n",
       " 'Gourgeist',\n",
       " 'Bergmite',\n",
       " 'Avalugg',\n",
       " 'Noibat',\n",
       " 'Noivern',\n",
       " 'Xerneas',\n",
       " 'Yveltal',\n",
       " 'Zygarde',\n",
       " 'Diancie',\n",
       " 'Hoopa',\n",
       " 'Volcanion']"
      ]
     },
     "execution_count": 20,
     "metadata": {},
     "output_type": "execute_result"
    }
   ],
   "source": [
    "list(pokemon)"
   ]
  },
  {
   "cell_type": "code",
   "execution_count": null,
   "metadata": {},
   "outputs": [],
   "source": [
    "dict(pokemon)"
   ]
  },
  {
   "cell_type": "code",
   "execution_count": 22,
   "metadata": {},
   "outputs": [
    {
     "data": {
      "text/plain": [
       "782.22"
      ]
     },
     "execution_count": 22,
     "metadata": {},
     "output_type": "execute_result"
    }
   ],
   "source": [
    "max(google)"
   ]
  },
  {
   "cell_type": "code",
   "execution_count": 23,
   "metadata": {},
   "outputs": [
    {
     "data": {
      "text/plain": [
       "49.95"
      ]
     },
     "execution_count": 23,
     "metadata": {},
     "output_type": "execute_result"
    }
   ],
   "source": [
    "min(google)"
   ]
  },
  {
   "cell_type": "markdown",
   "metadata": {},
   "source": [
    "# 32. Accessing More Series Attributes"
   ]
  },
  {
   "cell_type": "code",
   "execution_count": 24,
   "metadata": {},
   "outputs": [
    {
     "data": {
      "text/plain": [
       "array(['Bulbasaur', 'Ivysaur', 'Venusaur', 'Charmander', 'Charmeleon',\n",
       "       'Charizard', 'Squirtle', 'Wartortle', 'Blastoise', 'Caterpie',\n",
       "       'Metapod', 'Butterfree', 'Weedle', 'Kakuna', 'Beedrill', 'Pidgey',\n",
       "       'Pidgeotto', 'Pidgeot', 'Rattata', 'Raticate', 'Spearow', 'Fearow',\n",
       "       'Ekans', 'Arbok', 'Pikachu', 'Raichu', 'Sandshrew', 'Sandslash',\n",
       "       'Nidoran', 'Nidorina', 'Nidoqueen', 'Nidoran♂', 'Nidorino',\n",
       "       'Nidoking', 'Clefairy', 'Clefable', 'Vulpix', 'Ninetales',\n",
       "       'Jigglypuff', 'Wigglytuff', 'Zubat', 'Golbat', 'Oddish', 'Gloom',\n",
       "       'Vileplume', 'Paras', 'Parasect', 'Venonat', 'Venomoth', 'Diglett',\n",
       "       'Dugtrio', 'Meowth', 'Persian', 'Psyduck', 'Golduck', 'Mankey',\n",
       "       'Primeape', 'Growlithe', 'Arcanine', 'Poliwag', 'Poliwhirl',\n",
       "       'Poliwrath', 'Abra', 'Kadabra', 'Alakazam', 'Machop', 'Machoke',\n",
       "       'Machamp', 'Bellsprout', 'Weepinbell', 'Victreebel', 'Tentacool',\n",
       "       'Tentacruel', 'Geodude', 'Graveler', 'Golem', 'Ponyta', 'Rapidash',\n",
       "       'Slowpoke', 'Slowbro', 'Magnemite', 'Magneton', \"Farfetch'd\",\n",
       "       'Doduo', 'Dodrio', 'Seel', 'Dewgong', 'Grimer', 'Muk', 'Shellder',\n",
       "       'Cloyster', 'Gastly', 'Haunter', 'Gengar', 'Onix', 'Drowzee',\n",
       "       'Hypno', 'Krabby', 'Kingler', 'Voltorb', 'Electrode', 'Exeggcute',\n",
       "       'Exeggutor', 'Cubone', 'Marowak', 'Hitmonlee', 'Hitmonchan',\n",
       "       'Lickitung', 'Koffing', 'Weezing', 'Rhyhorn', 'Rhydon', 'Chansey',\n",
       "       'Tangela', 'Kangaskhan', 'Horsea', 'Seadra', 'Goldeen', 'Seaking',\n",
       "       'Staryu', 'Starmie', 'Mr. Mime', 'Scyther', 'Jynx', 'Electabuzz',\n",
       "       'Magmar', 'Pinsir', 'Tauros', 'Magikarp', 'Gyarados', 'Lapras',\n",
       "       'Ditto', 'Eevee', 'Vaporeon', 'Jolteon', 'Flareon', 'Porygon',\n",
       "       'Omanyte', 'Omastar', 'Kabuto', 'Kabutops', 'Aerodactyl',\n",
       "       'Snorlax', 'Articuno', 'Zapdos', 'Moltres', 'Dratini', 'Dragonair',\n",
       "       'Dragonite', 'Mewtwo', 'Mew', 'Chikorita', 'Bayleef', 'Meganium',\n",
       "       'Cyndaquil', 'Quilava', 'Typhlosion', 'Totodile', 'Croconaw',\n",
       "       'Feraligatr', 'Sentret', 'Furret', 'Hoothoot', 'Noctowl', 'Ledyba',\n",
       "       'Ledian', 'Spinarak', 'Ariados', 'Crobat', 'Chinchou', 'Lanturn',\n",
       "       'Pichu', 'Cleffa', 'Igglybuff', 'Togepi', 'Togetic', 'Natu',\n",
       "       'Xatu', 'Mareep', 'Flaaffy', 'Ampharos', 'Bellossom', 'Marill',\n",
       "       'Azumarill', 'Sudowoodo', 'Politoed', 'Hoppip', 'Skiploom',\n",
       "       'Jumpluff', 'Aipom', 'Sunkern', 'Sunflora', 'Yanma', 'Wooper',\n",
       "       'Quagsire', 'Espeon', 'Umbreon', 'Murkrow', 'Slowking',\n",
       "       'Misdreavus', 'Unown', 'Wobbuffet', 'Girafarig', 'Pineco',\n",
       "       'Forretress', 'Dunsparce', 'Gligar', 'Steelix', 'Snubbull',\n",
       "       'Granbull', 'Qwilfish', 'Scizor', 'Shuckle', 'Heracross',\n",
       "       'Sneasel', 'Teddiursa', 'Ursaring', 'Slugma', 'Magcargo', 'Swinub',\n",
       "       'Piloswine', 'Corsola', 'Remoraid', 'Octillery', 'Delibird',\n",
       "       'Mantine', 'Skarmory', 'Houndour', 'Houndoom', 'Kingdra', 'Phanpy',\n",
       "       'Donphan', 'Porygon2', 'Stantler', 'Smeargle', 'Tyrogue',\n",
       "       'Hitmontop', 'Smoochum', 'Elekid', 'Magby', 'Miltank', 'Blissey',\n",
       "       'Raikou', 'Entei', 'Suicune', 'Larvitar', 'Pupitar', 'Tyranitar',\n",
       "       'Lugia', 'Ho-oh', 'Celebi', 'Treecko', 'Grovyle', 'Sceptile',\n",
       "       'Torchic', 'Combusken', 'Blaziken', 'Mudkip', 'Marshtomp',\n",
       "       'Swampert', 'Poochyena', 'Mightyena', 'Zigzagoon', 'Linoone',\n",
       "       'Wurmple', 'Silcoon', 'Beautifly', 'Cascoon', 'Dustox', 'Lotad',\n",
       "       'Lombre', 'Ludicolo', 'Seedot', 'Nuzleaf', 'Shiftry', 'Taillow',\n",
       "       'Swellow', 'Wingull', 'Pelipper', 'Ralts', 'Kirlia', 'Gardevoir',\n",
       "       'Surskit', 'Masquerain', 'Shroomish', 'Breloom', 'Slakoth',\n",
       "       'Vigoroth', 'Slaking', 'Nincada', 'Ninjask', 'Shedinja', 'Whismur',\n",
       "       'Loudred', 'Exploud', 'Makuhita', 'Hariyama', 'Azurill',\n",
       "       'Nosepass', 'Skitty', 'Delcatty', 'Sableye', 'Mawile', 'Aron',\n",
       "       'Lairon', 'Aggron', 'Meditite', 'Medicham', 'Electrike',\n",
       "       'Manectric', 'Plusle', 'Minun', 'Volbeat', 'Illumise', 'Roselia',\n",
       "       'Gulpin', 'Swalot', 'Carvanha', 'Sharpedo', 'Wailmer', 'Wailord',\n",
       "       'Numel', 'Camerupt', 'Torkoal', 'Spoink', 'Grumpig', 'Spinda',\n",
       "       'Trapinch', 'Vibrava', 'Flygon', 'Cacnea', 'Cacturne', 'Swablu',\n",
       "       'Altaria', 'Zangoose', 'Seviper', 'Lunatone', 'Solrock',\n",
       "       'Barboach', 'Whiscash', 'Corphish', 'Crawdaunt', 'Baltoy',\n",
       "       'Claydol', 'Lileep', 'Cradily', 'Anorith', 'Armaldo', 'Feebas',\n",
       "       'Milotic', 'Castform', 'Kecleon', 'Shuppet', 'Banette', 'Duskull',\n",
       "       'Dusclops', 'Tropius', 'Chimecho', 'Absol', 'Wynaut', 'Snorunt',\n",
       "       'Glalie', 'Spheal', 'Sealeo', 'Walrein', 'Clamperl', 'Huntail',\n",
       "       'Gorebyss', 'Relicanth', 'Luvdisc', 'Bagon', 'Shelgon',\n",
       "       'Salamence', 'Beldum', 'Metang', 'Metagross', 'Regirock', 'Regice',\n",
       "       'Registeel', 'Latias', 'Latios', 'Kyogre', 'Groudon', 'Rayquaza',\n",
       "       'Jirachi', 'Deoxys', 'Turtwig', 'Grotle', 'Torterra', 'Chimchar',\n",
       "       'Monferno', 'Infernape', 'Piplup', 'Prinplup', 'Empoleon',\n",
       "       'Starly', 'Staravia', 'Staraptor', 'Bidoof', 'Bibarel',\n",
       "       'Kricketot', 'Kricketune', 'Shinx', 'Luxio', 'Luxray', 'Budew',\n",
       "       'Roserade', 'Cranidos', 'Rampardos', 'Shieldon', 'Bastiodon',\n",
       "       'Burmy', 'Wormadam', 'Mothim', 'Combee', 'Vespiquen', 'Pachirisu',\n",
       "       'Buizel', 'Floatzel', 'Cherubi', 'Cherrim', 'Shellos', 'Gastrodon',\n",
       "       'Ambipom', 'Drifloon', 'Drifblim', 'Buneary', 'Lopunny',\n",
       "       'Mismagius', 'Honchkrow', 'Glameow', 'Purugly', 'Chingling',\n",
       "       'Stunky', 'Skuntank', 'Bronzor', 'Bronzong', 'Bonsly', 'Mime Jr.',\n",
       "       'Happiny', 'Chatot', 'Spiritomb', 'Gible', 'Gabite', 'Garchomp',\n",
       "       'Munchlax', 'Riolu', 'Lucario', 'Hippopotas', 'Hippowdon',\n",
       "       'Skorupi', 'Drapion', 'Croagunk', 'Toxicroak', 'Carnivine',\n",
       "       'Finneon', 'Lumineon', 'Mantyke', 'Snover', 'Abomasnow', 'Weavile',\n",
       "       'Magnezone', 'Lickilicky', 'Rhyperior', 'Tangrowth', 'Electivire',\n",
       "       'Magmortar', 'Togekiss', 'Yanmega', 'Leafeon', 'Glaceon',\n",
       "       'Gliscor', 'Mamoswine', 'Porygon-Z', 'Gallade', 'Probopass',\n",
       "       'Dusknoir', 'Froslass', 'Rotom', 'Uxie', 'Mesprit', 'Azelf',\n",
       "       'Dialga', 'Palkia', 'Heatran', 'Regigigas', 'Giratina',\n",
       "       'Cresselia', 'Phione', 'Manaphy', 'Darkrai', 'Shaymin', 'Arceus',\n",
       "       'Victini', 'Snivy', 'Servine', 'Serperior', 'Tepig', 'Pignite',\n",
       "       'Emboar', 'Oshawott', 'Dewott', 'Samurott', 'Patrat', 'Watchog',\n",
       "       'Lillipup', 'Herdier', 'Stoutland', 'Purrloin', 'Liepard',\n",
       "       'Pansage', 'Simisage', 'Pansear', 'Simisear', 'Panpour',\n",
       "       'Simipour', 'Munna', 'Musharna', 'Pidove', 'Tranquill', 'Unfezant',\n",
       "       'Blitzle', 'Zebstrika', 'Roggenrola', 'Boldore', 'Gigalith',\n",
       "       'Woobat', 'Swoobat', 'Drilbur', 'Excadrill', 'Audino', 'Timburr',\n",
       "       'Gurdurr', 'Conkeldurr', 'Tympole', 'Palpitoad', 'Seismitoad',\n",
       "       'Throh', 'Sawk', 'Sewaddle', 'Swadloon', 'Leavanny', 'Venipede',\n",
       "       'Whirlipede', 'Scolipede', 'Cottonee', 'Whimsicott', 'Petilil',\n",
       "       'Lilligant', 'Basculin', 'Sandile', 'Krokorok', 'Krookodile',\n",
       "       'Darumaka', 'Darmanitan', 'Maractus', 'Dwebble', 'Crustle',\n",
       "       'Scraggy', 'Scrafty', 'Sigilyph', 'Yamask', 'Cofagrigus',\n",
       "       'Tirtouga', 'Carracosta', 'Archen', 'Archeops', 'Trubbish',\n",
       "       'Garbodor', 'Zorua', 'Zoroark', 'Minccino', 'Cinccino', 'Gothita',\n",
       "       'Gothorita', 'Gothitelle', 'Solosis', 'Duosion', 'Reuniclus',\n",
       "       'Ducklett', 'Swanna', 'Vanillite', 'Vanillish', 'Vanilluxe',\n",
       "       'Deerling', 'Sawsbuck', 'Emolga', 'Karrablast', 'Escavalier',\n",
       "       'Foongus', 'Amoonguss', 'Frillish', 'Jellicent', 'Alomomola',\n",
       "       'Joltik', 'Galvantula', 'Ferroseed', 'Ferrothorn', 'Klink',\n",
       "       'Klang', 'Klinklang', 'Tynamo', 'Eelektrik', 'Eelektross',\n",
       "       'Elgyem', 'Beheeyem', 'Litwick', 'Lampent', 'Chandelure', 'Axew',\n",
       "       'Fraxure', 'Haxorus', 'Cubchoo', 'Beartic', 'Cryogonal', 'Shelmet',\n",
       "       'Accelgor', 'Stunfisk', 'Mienfoo', 'Mienshao', 'Druddigon',\n",
       "       'Golett', 'Golurk', 'Pawniard', 'Bisharp', 'Bouffalant', 'Rufflet',\n",
       "       'Braviary', 'Vullaby', 'Mandibuzz', 'Heatmor', 'Durant', 'Deino',\n",
       "       'Zweilous', 'Hydreigon', 'Larvesta', 'Volcarona', 'Cobalion',\n",
       "       'Terrakion', 'Virizion', 'Tornadus', 'Thundurus', 'Reshiram',\n",
       "       'Zekrom', 'Landorus', 'Kyurem', 'Keldeo', 'Meloetta', 'Genesect',\n",
       "       'Chespin', 'Quilladin', 'Chesnaught', 'Fennekin', 'Braixen',\n",
       "       'Delphox', 'Froakie', 'Frogadier', 'Greninja', 'Bunnelby',\n",
       "       'Diggersby', 'Fletchling', 'Fletchinder', 'Talonflame',\n",
       "       'Scatterbug', 'Spewpa', 'Vivillon', 'Litleo', 'Pyroar', 'Flabébé',\n",
       "       'Floette', 'Florges', 'Skiddo', 'Gogoat', 'Pancham', 'Pangoro',\n",
       "       'Furfrou', 'Espurr', 'Meowstic', 'Honedge', 'Doublade',\n",
       "       'Aegislash', 'Spritzee', 'Aromatisse', 'Swirlix', 'Slurpuff',\n",
       "       'Inkay', 'Malamar', 'Binacle', 'Barbaracle', 'Skrelp', 'Dragalge',\n",
       "       'Clauncher', 'Clawitzer', 'Helioptile', 'Heliolisk', 'Tyrunt',\n",
       "       'Tyrantrum', 'Amaura', 'Aurorus', 'Sylveon', 'Hawlucha', 'Dedenne',\n",
       "       'Carbink', 'Goomy', 'Sliggoo', 'Goodra', 'Klefki', 'Phantump',\n",
       "       'Trevenant', 'Pumpkaboo', 'Gourgeist', 'Bergmite', 'Avalugg',\n",
       "       'Noibat', 'Noivern', 'Xerneas', 'Yveltal', 'Zygarde', 'Diancie',\n",
       "       'Hoopa', 'Volcanion'], dtype=object)"
      ]
     },
     "execution_count": 24,
     "metadata": {},
     "output_type": "execute_result"
    }
   ],
   "source": [
    "pokemon.values"
   ]
  },
  {
   "cell_type": "code",
   "execution_count": 25,
   "metadata": {},
   "outputs": [
    {
     "data": {
      "text/plain": [
       "RangeIndex(start=0, stop=3012, step=1)"
      ]
     },
     "execution_count": 25,
     "metadata": {},
     "output_type": "execute_result"
    }
   ],
   "source": [
    "google.index"
   ]
  },
  {
   "cell_type": "code",
   "execution_count": 26,
   "metadata": {},
   "outputs": [
    {
     "data": {
      "text/plain": [
       "dtype('float64')"
      ]
     },
     "execution_count": 26,
     "metadata": {},
     "output_type": "execute_result"
    }
   ],
   "source": [
    "google.dtype"
   ]
  },
  {
   "cell_type": "code",
   "execution_count": 27,
   "metadata": {},
   "outputs": [
    {
     "data": {
      "text/plain": [
       "True"
      ]
     },
     "execution_count": 27,
     "metadata": {},
     "output_type": "execute_result"
    }
   ],
   "source": [
    "pokemon.is_unique"
   ]
  },
  {
   "cell_type": "code",
   "execution_count": 28,
   "metadata": {},
   "outputs": [
    {
     "data": {
      "text/plain": [
       "1"
      ]
     },
     "execution_count": 28,
     "metadata": {},
     "output_type": "execute_result"
    }
   ],
   "source": [
    "google.ndim"
   ]
  },
  {
   "cell_type": "code",
   "execution_count": 29,
   "metadata": {},
   "outputs": [
    {
     "data": {
      "text/plain": [
       "(3012,)"
      ]
     },
     "execution_count": 29,
     "metadata": {},
     "output_type": "execute_result"
    }
   ],
   "source": [
    "google.shape"
   ]
  },
  {
   "cell_type": "code",
   "execution_count": 30,
   "metadata": {},
   "outputs": [
    {
     "data": {
      "text/plain": [
       "721"
      ]
     },
     "execution_count": 30,
     "metadata": {},
     "output_type": "execute_result"
    }
   ],
   "source": [
    "pokemon.size"
   ]
  },
  {
   "cell_type": "code",
   "execution_count": 31,
   "metadata": {},
   "outputs": [
    {
     "data": {
      "text/plain": [
       "'Pokemon'"
      ]
     },
     "execution_count": 31,
     "metadata": {},
     "output_type": "execute_result"
    }
   ],
   "source": [
    "pokemon.name"
   ]
  },
  {
   "cell_type": "markdown",
   "metadata": {},
   "source": [
    "# 33. Use the sort_values method to sort a Series in ascending or descending order"
   ]
  },
  {
   "cell_type": "code",
   "execution_count": 32,
   "metadata": {},
   "outputs": [
    {
     "data": {
      "text/plain": [
       "459    Abomasnow\n",
       "62          Abra\n",
       "358        Absol\n",
       "616     Accelgor\n",
       "680    Aegislash\n",
       "         ...    \n",
       "570      Zoroark\n",
       "569        Zorua\n",
       "40         Zubat\n",
       "633     Zweilous\n",
       "717      Zygarde\n",
       "Name: Pokemon, Length: 721, dtype: object"
      ]
     },
     "execution_count": 32,
     "metadata": {},
     "output_type": "execute_result"
    }
   ],
   "source": [
    "pokemon.sort_values()"
   ]
  },
  {
   "cell_type": "code",
   "execution_count": 33,
   "metadata": {},
   "outputs": [
    {
     "data": {
      "text/plain": [
       "717      Zygarde\n",
       "633     Zweilous\n",
       "40         Zubat\n",
       "569        Zorua\n",
       "570      Zoroark\n",
       "         ...    \n",
       "680    Aegislash\n",
       "616     Accelgor\n",
       "358        Absol\n",
       "62          Abra\n",
       "459    Abomasnow\n",
       "Name: Pokemon, Length: 721, dtype: object"
      ]
     },
     "execution_count": 33,
     "metadata": {},
     "output_type": "execute_result"
    }
   ],
   "source": [
    "pokemon.sort_values(ascending = False)"
   ]
  },
  {
   "cell_type": "markdown",
   "metadata": {},
   "source": [
    "# 34. Use the inplace Parameter to permanently mutate a pandas data structure"
   ]
  },
  {
   "cell_type": "code",
   "execution_count": 34,
   "metadata": {},
   "outputs": [
    {
     "data": {
      "text/plain": [
       "11       49.95\n",
       "9        50.07\n",
       "0        50.12\n",
       "10       50.70\n",
       "12       50.74\n",
       "         ...  \n",
       "3010    771.61\n",
       "3007    772.88\n",
       "3009    773.18\n",
       "2859    776.60\n",
       "3011    782.22\n",
       "Name: Stock Price, Length: 3012, dtype: float64"
      ]
     },
     "execution_count": 34,
     "metadata": {},
     "output_type": "execute_result"
    }
   ],
   "source": [
    "google = google.sort_values()\n",
    "google"
   ]
  },
  {
   "cell_type": "code",
   "execution_count": 37,
   "metadata": {},
   "outputs": [
    {
     "data": {
      "text/plain": [
       "3011    782.22\n",
       "2859    776.60\n",
       "3009    773.18\n",
       "3007    772.88\n",
       "3010    771.61\n",
       "         ...  \n",
       "12       50.74\n",
       "10       50.70\n",
       "0        50.12\n",
       "9        50.07\n",
       "11       49.95\n",
       "Name: Stock Price, Length: 3012, dtype: float64"
      ]
     },
     "execution_count": 37,
     "metadata": {},
     "output_type": "execute_result"
    }
   ],
   "source": [
    "google.sort_values(ascending=False, inplace=True)\n",
    "google"
   ]
  },
  {
   "cell_type": "markdown",
   "metadata": {},
   "source": [
    "# 35. Use the sort_index Method to Sort the Index of a pandas Series object"
   ]
  },
  {
   "cell_type": "code",
   "execution_count": 38,
   "metadata": {},
   "outputs": [],
   "source": [
    "import pandas as pd\n",
    "pokemon = pd.read_csv('pandas/pokemon.csv', usecols=['Pokemon'], squeeze=True)\n",
    "google = pd.read_csv(\"pandas/google_stock_price.csv\", squeeze=True)"
   ]
  },
  {
   "cell_type": "code",
   "execution_count": 39,
   "metadata": {},
   "outputs": [],
   "source": [
    "pokemon.sort_values(ascending=False, inplace=True)"
   ]
  },
  {
   "cell_type": "code",
   "execution_count": 41,
   "metadata": {},
   "outputs": [
    {
     "data": {
      "text/plain": [
       "717     Zygarde\n",
       "633    Zweilous\n",
       "40        Zubat\n",
       "Name: Pokemon, dtype: object"
      ]
     },
     "execution_count": 41,
     "metadata": {},
     "output_type": "execute_result"
    }
   ],
   "source": [
    "pokemon.head(3)"
   ]
  },
  {
   "cell_type": "code",
   "execution_count": 42,
   "metadata": {},
   "outputs": [
    {
     "data": {
      "text/plain": [
       "0       Bulbasaur\n",
       "1         Ivysaur\n",
       "2        Venusaur\n",
       "3      Charmander\n",
       "4      Charmeleon\n",
       "          ...    \n",
       "716       Yveltal\n",
       "717       Zygarde\n",
       "718       Diancie\n",
       "719         Hoopa\n",
       "720     Volcanion\n",
       "Name: Pokemon, Length: 721, dtype: object"
      ]
     },
     "execution_count": 42,
     "metadata": {},
     "output_type": "execute_result"
    }
   ],
   "source": [
    "pokemon.sort_index()"
   ]
  },
  {
   "cell_type": "markdown",
   "metadata": {},
   "source": [
    "# Упражнение по написанию кода 3: The sort_values and sort_index Methods"
   ]
  },
  {
   "cell_type": "code",
   "execution_count": null,
   "metadata": {},
   "outputs": [],
   "source": [
    "###############################################################\n",
    "# DO NOT DELETE THIS CODE. IT IS NEEDED FOR THE TESTS TO RUN. #\n",
    "from ignore import pd                                         #\n",
    "###############################################################\n",
    "\n",
    "# Assume pandas ha salready been imported and assigned to the alias \"pd\".\n",
    "\n",
    "flavors = [\"Spicy Sweet Chili\", \"Cool Ranch\", \"Nacho Cheese\", \"Salsa Verde\"]\n",
    "\n",
    "# Create a new Series object, passing in the flavors list defined above\n",
    "# Assign it to a 'doritos' variable. The resulting Series should look like this:\n",
    "#\n",
    "#\n",
    "#   0    Spicy Sweet Chili\n",
    "#   1           Cool Ranch\n",
    "#   2         Nacho Cheese\n",
    "#   3          Salsa Verde\n",
    "#   dtype: object\n",
    "doritos = pd.Series(flavors)\n",
    "\n",
    "\n",
    "# Below, sort the doritos Series in descending order.\n",
    "# Make sure the operation is permanent.\n",
    "# The Series should like this afterwards:\n",
    "#\n",
    "#   0    Spicy Sweet Chili\n",
    "#   3          Salsa Verde\n",
    "#   2         Nacho Cheese\n",
    "#   1           Cool Ranch\n",
    "#   dtype: object\n",
    "doritos.sort_values(ascending=True, inplace=True)\n",
    "\n",
    "\n",
    "\n",
    "\n",
    "# Below, sort the doritos Series index in descending order.\n",
    "# Make sure the operation is permanent.\n",
    "# The Series should like this afterwards:\n",
    "#\n",
    "#   3          Salsa Verde\n",
    "#   2         Nacho Cheese\n",
    "#   1           Cool Ranch\n",
    "#   0    Spicy Sweet Chili\n",
    "#   dtype: object\n",
    "doritos.sort_index(ascending=True, inplace=True)"
   ]
  },
  {
   "cell_type": "markdown",
   "metadata": {},
   "source": [
    "# 36. Use Python's in Keyword to Check for Inclusion in Series values or index"
   ]
  },
  {
   "cell_type": "code",
   "execution_count": 44,
   "metadata": {},
   "outputs": [],
   "source": [
    "import pandas as pd\n",
    "pokemon = pd.read_csv(\"pandas/pokemon.csv\", usecols=[\"Pokemon\"], squeeze=True)"
   ]
  },
  {
   "cell_type": "code",
   "execution_count": 46,
   "metadata": {},
   "outputs": [
    {
     "data": {
      "text/plain": [
       "0     Bulbasaur\n",
       "1       Ivysaur\n",
       "2      Venusaur\n",
       "3    Charmander\n",
       "4    Charmeleon\n",
       "Name: Pokemon, dtype: object"
      ]
     },
     "execution_count": 46,
     "metadata": {},
     "output_type": "execute_result"
    }
   ],
   "source": [
    "pokemon.head()"
   ]
  },
  {
   "cell_type": "code",
   "execution_count": 47,
   "metadata": {},
   "outputs": [
    {
     "data": {
      "text/plain": [
       "False"
      ]
     },
     "execution_count": 47,
     "metadata": {},
     "output_type": "execute_result"
    }
   ],
   "source": [
    "\"Bulbasaur\" in pokemon"
   ]
  },
  {
   "cell_type": "code",
   "execution_count": 48,
   "metadata": {},
   "outputs": [
    {
     "data": {
      "text/plain": [
       "True"
      ]
     },
     "execution_count": 48,
     "metadata": {},
     "output_type": "execute_result"
    }
   ],
   "source": [
    "100 in pokemon"
   ]
  },
  {
   "cell_type": "code",
   "execution_count": 49,
   "metadata": {},
   "outputs": [
    {
     "data": {
      "text/plain": [
       "True"
      ]
     },
     "execution_count": 49,
     "metadata": {},
     "output_type": "execute_result"
    }
   ],
   "source": [
    "100 in pokemon.index"
   ]
  },
  {
   "cell_type": "code",
   "execution_count": 50,
   "metadata": {},
   "outputs": [
    {
     "data": {
      "text/plain": [
       "True"
      ]
     },
     "execution_count": 50,
     "metadata": {},
     "output_type": "execute_result"
    }
   ],
   "source": [
    "\"Bulbasaur\" in pokemon.values"
   ]
  },
  {
   "cell_type": "markdown",
   "metadata": {},
   "source": [
    "# 37. Extract Series Values by Index Position"
   ]
  },
  {
   "cell_type": "code",
   "execution_count": 51,
   "metadata": {},
   "outputs": [
    {
     "data": {
      "text/plain": [
       "'Oshawott'"
      ]
     },
     "execution_count": 51,
     "metadata": {},
     "output_type": "execute_result"
    }
   ],
   "source": [
    "pokemon[500]"
   ]
  },
  {
   "cell_type": "code",
   "execution_count": 56,
   "metadata": {},
   "outputs": [
    {
     "data": {
      "text/plain": [
       "706       Klefki\n",
       "707     Phantump\n",
       "708    Trevenant\n",
       "709    Pumpkaboo\n",
       "710    Gourgeist\n",
       "711     Bergmite\n",
       "712      Avalugg\n",
       "713       Noibat\n",
       "714      Noivern\n",
       "715      Xerneas\n",
       "716      Yveltal\n",
       "717      Zygarde\n",
       "718      Diancie\n",
       "719        Hoopa\n",
       "720    Volcanion\n",
       "Name: Pokemon, dtype: object"
      ]
     },
     "execution_count": 56,
     "metadata": {},
     "output_type": "execute_result"
    }
   ],
   "source": [
    "pokemon[50:99]\n",
    "pokemon[:10]\n",
    "pokemon[-15:]"
   ]
  },
  {
   "cell_type": "code",
   "execution_count": 52,
   "metadata": {},
   "outputs": [
    {
     "data": {
      "text/plain": [
       "500    Oshawott\n",
       "200       Unown\n",
       "150         Mew\n",
       "Name: Pokemon, dtype: object"
      ]
     },
     "execution_count": 52,
     "metadata": {},
     "output_type": "execute_result"
    }
   ],
   "source": [
    "pokemon[[500, 200, 150]]"
   ]
  },
  {
   "cell_type": "markdown",
   "metadata": {},
   "source": [
    "# 38. Extract Series Values by Index Label"
   ]
  },
  {
   "cell_type": "code",
   "execution_count": 59,
   "metadata": {},
   "outputs": [
    {
     "data": {
      "text/html": [
       "<div>\n",
       "<style scoped>\n",
       "    .dataframe tbody tr th:only-of-type {\n",
       "        vertical-align: middle;\n",
       "    }\n",
       "\n",
       "    .dataframe tbody tr th {\n",
       "        vertical-align: top;\n",
       "    }\n",
       "\n",
       "    .dataframe thead th {\n",
       "        text-align: right;\n",
       "    }\n",
       "</style>\n",
       "<table border=\"1\" class=\"dataframe\">\n",
       "  <thead>\n",
       "    <tr style=\"text-align: right;\">\n",
       "      <th></th>\n",
       "      <th>Pokemon</th>\n",
       "      <th>Type</th>\n",
       "    </tr>\n",
       "  </thead>\n",
       "  <tbody>\n",
       "    <tr>\n",
       "      <th>0</th>\n",
       "      <td>Bulbasaur</td>\n",
       "      <td>Grass</td>\n",
       "    </tr>\n",
       "    <tr>\n",
       "      <th>1</th>\n",
       "      <td>Ivysaur</td>\n",
       "      <td>Grass</td>\n",
       "    </tr>\n",
       "    <tr>\n",
       "      <th>2</th>\n",
       "      <td>Venusaur</td>\n",
       "      <td>Grass</td>\n",
       "    </tr>\n",
       "    <tr>\n",
       "      <th>3</th>\n",
       "      <td>Charmander</td>\n",
       "      <td>Fire</td>\n",
       "    </tr>\n",
       "    <tr>\n",
       "      <th>4</th>\n",
       "      <td>Charmeleon</td>\n",
       "      <td>Fire</td>\n",
       "    </tr>\n",
       "    <tr>\n",
       "      <th>...</th>\n",
       "      <td>...</td>\n",
       "      <td>...</td>\n",
       "    </tr>\n",
       "    <tr>\n",
       "      <th>716</th>\n",
       "      <td>Yveltal</td>\n",
       "      <td>Dark</td>\n",
       "    </tr>\n",
       "    <tr>\n",
       "      <th>717</th>\n",
       "      <td>Zygarde</td>\n",
       "      <td>Dragon</td>\n",
       "    </tr>\n",
       "    <tr>\n",
       "      <th>718</th>\n",
       "      <td>Diancie</td>\n",
       "      <td>Rock</td>\n",
       "    </tr>\n",
       "    <tr>\n",
       "      <th>719</th>\n",
       "      <td>Hoopa</td>\n",
       "      <td>Psychic</td>\n",
       "    </tr>\n",
       "    <tr>\n",
       "      <th>720</th>\n",
       "      <td>Volcanion</td>\n",
       "      <td>Fire</td>\n",
       "    </tr>\n",
       "  </tbody>\n",
       "</table>\n",
       "<p>721 rows × 2 columns</p>\n",
       "</div>"
      ],
      "text/plain": [
       "        Pokemon     Type\n",
       "0     Bulbasaur    Grass\n",
       "1       Ivysaur    Grass\n",
       "2      Venusaur    Grass\n",
       "3    Charmander     Fire\n",
       "4    Charmeleon     Fire\n",
       "..          ...      ...\n",
       "716     Yveltal     Dark\n",
       "717     Zygarde   Dragon\n",
       "718     Diancie     Rock\n",
       "719       Hoopa  Psychic\n",
       "720   Volcanion     Fire\n",
       "\n",
       "[721 rows x 2 columns]"
      ]
     },
     "execution_count": 59,
     "metadata": {},
     "output_type": "execute_result"
    }
   ],
   "source": [
    "pokemon = pd.read_csv(\"pandas/pokemon.csv\")\n",
    "pokemon"
   ]
  },
  {
   "cell_type": "code",
   "execution_count": 60,
   "metadata": {},
   "outputs": [
    {
     "data": {
      "text/html": [
       "<div>\n",
       "<style scoped>\n",
       "    .dataframe tbody tr th:only-of-type {\n",
       "        vertical-align: middle;\n",
       "    }\n",
       "\n",
       "    .dataframe tbody tr th {\n",
       "        vertical-align: top;\n",
       "    }\n",
       "\n",
       "    .dataframe thead th {\n",
       "        text-align: right;\n",
       "    }\n",
       "</style>\n",
       "<table border=\"1\" class=\"dataframe\">\n",
       "  <thead>\n",
       "    <tr style=\"text-align: right;\">\n",
       "      <th></th>\n",
       "      <th>Type</th>\n",
       "    </tr>\n",
       "    <tr>\n",
       "      <th>Pokemon</th>\n",
       "      <th></th>\n",
       "    </tr>\n",
       "  </thead>\n",
       "  <tbody>\n",
       "    <tr>\n",
       "      <th>Bulbasaur</th>\n",
       "      <td>Grass</td>\n",
       "    </tr>\n",
       "    <tr>\n",
       "      <th>Ivysaur</th>\n",
       "      <td>Grass</td>\n",
       "    </tr>\n",
       "    <tr>\n",
       "      <th>Venusaur</th>\n",
       "      <td>Grass</td>\n",
       "    </tr>\n",
       "    <tr>\n",
       "      <th>Charmander</th>\n",
       "      <td>Fire</td>\n",
       "    </tr>\n",
       "    <tr>\n",
       "      <th>Charmeleon</th>\n",
       "      <td>Fire</td>\n",
       "    </tr>\n",
       "    <tr>\n",
       "      <th>...</th>\n",
       "      <td>...</td>\n",
       "    </tr>\n",
       "    <tr>\n",
       "      <th>Yveltal</th>\n",
       "      <td>Dark</td>\n",
       "    </tr>\n",
       "    <tr>\n",
       "      <th>Zygarde</th>\n",
       "      <td>Dragon</td>\n",
       "    </tr>\n",
       "    <tr>\n",
       "      <th>Diancie</th>\n",
       "      <td>Rock</td>\n",
       "    </tr>\n",
       "    <tr>\n",
       "      <th>Hoopa</th>\n",
       "      <td>Psychic</td>\n",
       "    </tr>\n",
       "    <tr>\n",
       "      <th>Volcanion</th>\n",
       "      <td>Fire</td>\n",
       "    </tr>\n",
       "  </tbody>\n",
       "</table>\n",
       "<p>721 rows × 1 columns</p>\n",
       "</div>"
      ],
      "text/plain": [
       "               Type\n",
       "Pokemon            \n",
       "Bulbasaur     Grass\n",
       "Ivysaur       Grass\n",
       "Venusaur      Grass\n",
       "Charmander     Fire\n",
       "Charmeleon     Fire\n",
       "...             ...\n",
       "Yveltal        Dark\n",
       "Zygarde      Dragon\n",
       "Diancie        Rock\n",
       "Hoopa       Psychic\n",
       "Volcanion      Fire\n",
       "\n",
       "[721 rows x 1 columns]"
      ]
     },
     "execution_count": 60,
     "metadata": {},
     "output_type": "execute_result"
    }
   ],
   "source": [
    "pokemon = pd.read_csv(\"pandas/pokemon.csv\", index_col=\"Pokemon\")\n",
    "pokemon"
   ]
  },
  {
   "cell_type": "code",
   "execution_count": 61,
   "metadata": {},
   "outputs": [
    {
     "data": {
      "text/plain": [
       "Pokemon\n",
       "Bulbasaur       Grass\n",
       "Ivysaur         Grass\n",
       "Venusaur        Grass\n",
       "Charmander       Fire\n",
       "Charmeleon       Fire\n",
       "               ...   \n",
       "Yveltal          Dark\n",
       "Zygarde        Dragon\n",
       "Diancie          Rock\n",
       "Hoopa         Psychic\n",
       "Volcanion        Fire\n",
       "Name: Type, Length: 721, dtype: object"
      ]
     },
     "execution_count": 61,
     "metadata": {},
     "output_type": "execute_result"
    }
   ],
   "source": [
    "pokemon = pd.read_csv(\"pandas/pokemon.csv\", index_col=\"Pokemon\", squeeze=True)\n",
    "pokemon"
   ]
  },
  {
   "cell_type": "code",
   "execution_count": 62,
   "metadata": {},
   "outputs": [
    {
     "data": {
      "text/plain": [
       "'Grass'"
      ]
     },
     "execution_count": 62,
     "metadata": {},
     "output_type": "execute_result"
    }
   ],
   "source": [
    "pokemon[0]"
   ]
  },
  {
   "cell_type": "code",
   "execution_count": 64,
   "metadata": {},
   "outputs": [
    {
     "data": {
      "text/plain": [
       "Pokemon\n",
       "Electrode    Electric\n",
       "Jolteon      Electric\n",
       "Name: Type, dtype: object"
      ]
     },
     "execution_count": 64,
     "metadata": {},
     "output_type": "execute_result"
    }
   ],
   "source": [
    "pokemon[[100, 134]]"
   ]
  },
  {
   "cell_type": "code",
   "execution_count": 65,
   "metadata": {},
   "outputs": [
    {
     "data": {
      "text/plain": [
       "'Dark'"
      ]
     },
     "execution_count": 65,
     "metadata": {},
     "output_type": "execute_result"
    }
   ],
   "source": [
    "pokemon['Yveltal']"
   ]
  },
  {
   "cell_type": "code",
   "execution_count": 66,
   "metadata": {},
   "outputs": [
    {
     "data": {
      "text/plain": [
       "Pokemon\n",
       "Charmander       Fire\n",
       "Diancie          Rock\n",
       "Hoopa         Psychic\n",
       "Name: Type, dtype: object"
      ]
     },
     "execution_count": 66,
     "metadata": {},
     "output_type": "execute_result"
    }
   ],
   "source": [
    "pokemon[['Charmander', 'Diancie', 'Hoopa']]"
   ]
  },
  {
   "cell_type": "code",
   "execution_count": 67,
   "metadata": {},
   "outputs": [
    {
     "data": {
      "text/plain": [
       "Pokemon\n",
       "Bulbasaur     Grass\n",
       "Ivysaur       Grass\n",
       "Venusaur      Grass\n",
       "Charmander     Fire\n",
       "Charmeleon     Fire\n",
       "Name: Type, dtype: object"
      ]
     },
     "execution_count": 67,
     "metadata": {},
     "output_type": "execute_result"
    }
   ],
   "source": [
    "pokemon[\"Bulbasaur\":\"Charmeleon\"]"
   ]
  },
  {
   "cell_type": "code",
   "execution_count": 68,
   "metadata": {},
   "outputs": [
    {
     "data": {
      "text/plain": [
       "Pokemon\n",
       "Bulbasaur       Grass\n",
       "Ivysaur         Grass\n",
       "Venusaur        Grass\n",
       "Charmander       Fire\n",
       "Charmeleon       Fire\n",
       "               ...   \n",
       "Yveltal          Dark\n",
       "Zygarde        Dragon\n",
       "Diancie          Rock\n",
       "Hoopa         Psychic\n",
       "Volcanion        Fire\n",
       "Name: Type, Length: 721, dtype: object"
      ]
     },
     "execution_count": 68,
     "metadata": {},
     "output_type": "execute_result"
    }
   ],
   "source": [
    "pokemon[\"Bulbasaur\":]"
   ]
  },
  {
   "cell_type": "code",
   "execution_count": 69,
   "metadata": {},
   "outputs": [
    {
     "data": {
      "text/plain": [
       "Pokemon\n",
       "Bulbasaur     Grass\n",
       "Venusaur      Grass\n",
       "Charmeleon     Fire\n",
       "Name: Type, dtype: object"
      ]
     },
     "execution_count": 69,
     "metadata": {},
     "output_type": "execute_result"
    }
   ],
   "source": [
    "pokemon[\"Bulbasaur\":\"Charmeleon\":2]"
   ]
  },
  {
   "cell_type": "code",
   "execution_count": 70,
   "metadata": {
    "scrolled": true
   },
   "outputs": [
    {
     "ename": "KeyError",
     "evalue": "'Чебурашка'",
     "output_type": "error",
     "traceback": [
      "\u001b[1;31m---------------------------------------------------------------------------\u001b[0m",
      "\u001b[1;31mTypeError\u001b[0m                                 Traceback (most recent call last)",
      "\u001b[1;32mC:\\ProgramData\\Anaconda3\\envs\\pandas_playground\\lib\\site-packages\\pandas\\core\\indexes\\base.py\u001b[0m in \u001b[0;36mget_value\u001b[1;34m(self, series, key)\u001b[0m\n\u001b[0;32m   4410\u001b[0m             \u001b[1;32mtry\u001b[0m\u001b[1;33m:\u001b[0m\u001b[1;33m\u001b[0m\u001b[1;33m\u001b[0m\u001b[0m\n\u001b[1;32m-> 4411\u001b[1;33m                 \u001b[1;32mreturn\u001b[0m \u001b[0mlibindex\u001b[0m\u001b[1;33m.\u001b[0m\u001b[0mget_value_at\u001b[0m\u001b[1;33m(\u001b[0m\u001b[0ms\u001b[0m\u001b[1;33m,\u001b[0m \u001b[0mkey\u001b[0m\u001b[1;33m)\u001b[0m\u001b[1;33m\u001b[0m\u001b[1;33m\u001b[0m\u001b[0m\n\u001b[0m\u001b[0;32m   4412\u001b[0m             \u001b[1;32mexcept\u001b[0m \u001b[0mIndexError\u001b[0m\u001b[1;33m:\u001b[0m\u001b[1;33m\u001b[0m\u001b[1;33m\u001b[0m\u001b[0m\n",
      "\u001b[1;32mpandas\\_libs\\index.pyx\u001b[0m in \u001b[0;36mpandas._libs.index.get_value_at\u001b[1;34m()\u001b[0m\n",
      "\u001b[1;32mpandas\\_libs\\index.pyx\u001b[0m in \u001b[0;36mpandas._libs.index.get_value_at\u001b[1;34m()\u001b[0m\n",
      "\u001b[1;32mpandas\\_libs\\util.pxd\u001b[0m in \u001b[0;36mpandas._libs.util.get_value_at\u001b[1;34m()\u001b[0m\n",
      "\u001b[1;32mpandas\\_libs\\util.pxd\u001b[0m in \u001b[0;36mpandas._libs.util.validate_indexer\u001b[1;34m()\u001b[0m\n",
      "\u001b[1;31mTypeError\u001b[0m: 'str' object cannot be interpreted as an integer",
      "\nDuring handling of the above exception, another exception occurred:\n",
      "\u001b[1;31mKeyError\u001b[0m                                  Traceback (most recent call last)",
      "\u001b[1;32m<ipython-input-70-5137532e7b1a>\u001b[0m in \u001b[0;36m<module>\u001b[1;34m\u001b[0m\n\u001b[1;32m----> 1\u001b[1;33m \u001b[0mpokemon\u001b[0m\u001b[1;33m[\u001b[0m\u001b[1;34m\"Чебурашка\"\u001b[0m\u001b[1;33m]\u001b[0m\u001b[1;33m\u001b[0m\u001b[1;33m\u001b[0m\u001b[0m\n\u001b[0m",
      "\u001b[1;32mC:\\ProgramData\\Anaconda3\\envs\\pandas_playground\\lib\\site-packages\\pandas\\core\\series.py\u001b[0m in \u001b[0;36m__getitem__\u001b[1;34m(self, key)\u001b[0m\n\u001b[0;32m    869\u001b[0m         \u001b[0mkey\u001b[0m \u001b[1;33m=\u001b[0m \u001b[0mcom\u001b[0m\u001b[1;33m.\u001b[0m\u001b[0mapply_if_callable\u001b[0m\u001b[1;33m(\u001b[0m\u001b[0mkey\u001b[0m\u001b[1;33m,\u001b[0m \u001b[0mself\u001b[0m\u001b[1;33m)\u001b[0m\u001b[1;33m\u001b[0m\u001b[1;33m\u001b[0m\u001b[0m\n\u001b[0;32m    870\u001b[0m         \u001b[1;32mtry\u001b[0m\u001b[1;33m:\u001b[0m\u001b[1;33m\u001b[0m\u001b[1;33m\u001b[0m\u001b[0m\n\u001b[1;32m--> 871\u001b[1;33m             \u001b[0mresult\u001b[0m \u001b[1;33m=\u001b[0m \u001b[0mself\u001b[0m\u001b[1;33m.\u001b[0m\u001b[0mindex\u001b[0m\u001b[1;33m.\u001b[0m\u001b[0mget_value\u001b[0m\u001b[1;33m(\u001b[0m\u001b[0mself\u001b[0m\u001b[1;33m,\u001b[0m \u001b[0mkey\u001b[0m\u001b[1;33m)\u001b[0m\u001b[1;33m\u001b[0m\u001b[1;33m\u001b[0m\u001b[0m\n\u001b[0m\u001b[0;32m    872\u001b[0m \u001b[1;33m\u001b[0m\u001b[0m\n\u001b[0;32m    873\u001b[0m             \u001b[1;32mif\u001b[0m \u001b[1;32mnot\u001b[0m \u001b[0mis_scalar\u001b[0m\u001b[1;33m(\u001b[0m\u001b[0mresult\u001b[0m\u001b[1;33m)\u001b[0m\u001b[1;33m:\u001b[0m\u001b[1;33m\u001b[0m\u001b[1;33m\u001b[0m\u001b[0m\n",
      "\u001b[1;32mC:\\ProgramData\\Anaconda3\\envs\\pandas_playground\\lib\\site-packages\\pandas\\core\\indexes\\base.py\u001b[0m in \u001b[0;36mget_value\u001b[1;34m(self, series, key)\u001b[0m\n\u001b[0;32m   4417\u001b[0m                     \u001b[1;32mraise\u001b[0m \u001b[0mInvalidIndexError\u001b[0m\u001b[1;33m(\u001b[0m\u001b[0mkey\u001b[0m\u001b[1;33m)\u001b[0m\u001b[1;33m\u001b[0m\u001b[1;33m\u001b[0m\u001b[0m\n\u001b[0;32m   4418\u001b[0m                 \u001b[1;32melse\u001b[0m\u001b[1;33m:\u001b[0m\u001b[1;33m\u001b[0m\u001b[1;33m\u001b[0m\u001b[0m\n\u001b[1;32m-> 4419\u001b[1;33m                     \u001b[1;32mraise\u001b[0m \u001b[0me1\u001b[0m\u001b[1;33m\u001b[0m\u001b[1;33m\u001b[0m\u001b[0m\n\u001b[0m\u001b[0;32m   4420\u001b[0m             \u001b[1;32mexcept\u001b[0m \u001b[0mException\u001b[0m\u001b[1;33m:\u001b[0m\u001b[1;33m\u001b[0m\u001b[1;33m\u001b[0m\u001b[0m\n\u001b[0;32m   4421\u001b[0m                 \u001b[1;32mraise\u001b[0m \u001b[0me1\u001b[0m\u001b[1;33m\u001b[0m\u001b[1;33m\u001b[0m\u001b[0m\n",
      "\u001b[1;32mC:\\ProgramData\\Anaconda3\\envs\\pandas_playground\\lib\\site-packages\\pandas\\core\\indexes\\base.py\u001b[0m in \u001b[0;36mget_value\u001b[1;34m(self, series, key)\u001b[0m\n\u001b[0;32m   4403\u001b[0m         \u001b[0mk\u001b[0m \u001b[1;33m=\u001b[0m \u001b[0mself\u001b[0m\u001b[1;33m.\u001b[0m\u001b[0m_convert_scalar_indexer\u001b[0m\u001b[1;33m(\u001b[0m\u001b[0mk\u001b[0m\u001b[1;33m,\u001b[0m \u001b[0mkind\u001b[0m\u001b[1;33m=\u001b[0m\u001b[1;34m\"getitem\"\u001b[0m\u001b[1;33m)\u001b[0m\u001b[1;33m\u001b[0m\u001b[1;33m\u001b[0m\u001b[0m\n\u001b[0;32m   4404\u001b[0m         \u001b[1;32mtry\u001b[0m\u001b[1;33m:\u001b[0m\u001b[1;33m\u001b[0m\u001b[1;33m\u001b[0m\u001b[0m\n\u001b[1;32m-> 4405\u001b[1;33m             \u001b[1;32mreturn\u001b[0m \u001b[0mself\u001b[0m\u001b[1;33m.\u001b[0m\u001b[0m_engine\u001b[0m\u001b[1;33m.\u001b[0m\u001b[0mget_value\u001b[0m\u001b[1;33m(\u001b[0m\u001b[0ms\u001b[0m\u001b[1;33m,\u001b[0m \u001b[0mk\u001b[0m\u001b[1;33m,\u001b[0m \u001b[0mtz\u001b[0m\u001b[1;33m=\u001b[0m\u001b[0mgetattr\u001b[0m\u001b[1;33m(\u001b[0m\u001b[0mseries\u001b[0m\u001b[1;33m.\u001b[0m\u001b[0mdtype\u001b[0m\u001b[1;33m,\u001b[0m \u001b[1;34m\"tz\"\u001b[0m\u001b[1;33m,\u001b[0m \u001b[1;32mNone\u001b[0m\u001b[1;33m)\u001b[0m\u001b[1;33m)\u001b[0m\u001b[1;33m\u001b[0m\u001b[1;33m\u001b[0m\u001b[0m\n\u001b[0m\u001b[0;32m   4406\u001b[0m         \u001b[1;32mexcept\u001b[0m \u001b[0mKeyError\u001b[0m \u001b[1;32mas\u001b[0m \u001b[0me1\u001b[0m\u001b[1;33m:\u001b[0m\u001b[1;33m\u001b[0m\u001b[1;33m\u001b[0m\u001b[0m\n\u001b[0;32m   4407\u001b[0m             \u001b[1;32mif\u001b[0m \u001b[0mlen\u001b[0m\u001b[1;33m(\u001b[0m\u001b[0mself\u001b[0m\u001b[1;33m)\u001b[0m \u001b[1;33m>\u001b[0m \u001b[1;36m0\u001b[0m \u001b[1;32mand\u001b[0m \u001b[1;33m(\u001b[0m\u001b[0mself\u001b[0m\u001b[1;33m.\u001b[0m\u001b[0mholds_integer\u001b[0m\u001b[1;33m(\u001b[0m\u001b[1;33m)\u001b[0m \u001b[1;32mor\u001b[0m \u001b[0mself\u001b[0m\u001b[1;33m.\u001b[0m\u001b[0mis_boolean\u001b[0m\u001b[1;33m(\u001b[0m\u001b[1;33m)\u001b[0m\u001b[1;33m)\u001b[0m\u001b[1;33m:\u001b[0m\u001b[1;33m\u001b[0m\u001b[1;33m\u001b[0m\u001b[0m\n",
      "\u001b[1;32mpandas\\_libs\\index.pyx\u001b[0m in \u001b[0;36mpandas._libs.index.IndexEngine.get_value\u001b[1;34m()\u001b[0m\n",
      "\u001b[1;32mpandas\\_libs\\index.pyx\u001b[0m in \u001b[0;36mpandas._libs.index.IndexEngine.get_value\u001b[1;34m()\u001b[0m\n",
      "\u001b[1;32mpandas\\_libs\\index.pyx\u001b[0m in \u001b[0;36mpandas._libs.index.IndexEngine.get_loc\u001b[1;34m()\u001b[0m\n",
      "\u001b[1;32mpandas\\_libs\\hashtable_class_helper.pxi\u001b[0m in \u001b[0;36mpandas._libs.hashtable.PyObjectHashTable.get_item\u001b[1;34m()\u001b[0m\n",
      "\u001b[1;32mpandas\\_libs\\hashtable_class_helper.pxi\u001b[0m in \u001b[0;36mpandas._libs.hashtable.PyObjectHashTable.get_item\u001b[1;34m()\u001b[0m\n",
      "\u001b[1;31mKeyError\u001b[0m: 'Чебурашка'"
     ]
    }
   ],
   "source": [
    "pokemon[\"Чебурашка\"]"
   ]
  },
  {
   "cell_type": "code",
   "execution_count": 71,
   "metadata": {},
   "outputs": [
    {
     "data": {
      "text/plain": [
       "Pokemon\n",
       "Bulbasaur    Grass\n",
       "Чебурашка      NaN\n",
       "Name: Type, dtype: object"
      ]
     },
     "execution_count": 71,
     "metadata": {},
     "output_type": "execute_result"
    }
   ],
   "source": [
    "pokemon.reindex(index=[\"Bulbasaur\", \"Чебурашка\"])"
   ]
  },
  {
   "cell_type": "code",
   "execution_count": 72,
   "metadata": {},
   "outputs": [
    {
     "data": {
      "text/plain": [
       "Pokemon\n",
       "Bulbasaur       Grass\n",
       "Ivysaur         Grass\n",
       "Venusaur        Grass\n",
       "Charmander       Fire\n",
       "Charmeleon       Fire\n",
       "               ...   \n",
       "Yveltal          Dark\n",
       "Zygarde        Dragon\n",
       "Diancie          Rock\n",
       "Hoopa         Psychic\n",
       "Volcanion        Fire\n",
       "Name: Type, Length: 721, dtype: object"
      ]
     },
     "execution_count": 72,
     "metadata": {},
     "output_type": "execute_result"
    }
   ],
   "source": [
    "pokemon"
   ]
  },
  {
   "cell_type": "markdown",
   "metadata": {},
   "source": [
    "# Упражнение по написанию кода 4: Extract Series Values by Index Position or Index Label"
   ]
  },
  {
   "cell_type": "code",
   "execution_count": null,
   "metadata": {},
   "outputs": [],
   "source": [
    "###############################################################\n",
    "# DO NOT DELETE THIS CODE. IT IS NEEDED FOR THE TESTS TO RUN. #\n",
    "from ignore import pd                                         #\n",
    "###############################################################\n",
    "\n",
    "# Let's say I have a dictionary that maps guitar types\n",
    "# to their colors\n",
    "guitars_dict = {\n",
    "    \"Fender Telecaster\": \"Baby Blue\",\n",
    "    \"Gibson Les Paul\": \"Sunburst\",\n",
    "    \"ESP Eclipse\": \"Dark Green\"\n",
    "}\n",
    "\n",
    "# Create a new Series object, passing in the guitars_dict dictionary as the data source.\n",
    "# Assign the resulting Series to a \"guitars\" variable.\n",
    "guitars = pd.Series(guitars_dict)\n",
    "\n",
    "# Access the value for the index position of 0 within the \"guitars\" Series.\n",
    "# Assign the value to a \"fender_color\" variable.\n",
    "fender_color = guitars[0]\n",
    "\n",
    "# Access the value for the index label of \"Gibson Les Paul\" in the \"guitars\" Series.\n",
    "# Assign the value to a \"gibson_color\" variable.\n",
    "gibson_color = guitars[\"Gibson Les Paul\"]\n",
    "\n",
    "# Access the value for the index label of \"ESP Eclipse\" in the \"guitars\" Series.\n",
    "# Assign the value to a \"esp_color\" variable.\n",
    "esp_color = guitars[\"ESP Eclipse\"]"
   ]
  },
  {
   "cell_type": "markdown",
   "metadata": {},
   "source": [
    "# 39. Use the get Method to Retrieve a Value for an index label in a Series"
   ]
  },
  {
   "cell_type": "code",
   "execution_count": 74,
   "metadata": {},
   "outputs": [
    {
     "data": {
      "text/plain": [
       "Pokemon\n",
       "Abomasnow      Grass\n",
       "Abra         Psychic\n",
       "Absol           Dark\n",
       "Accelgor         Bug\n",
       "Aegislash      Steel\n",
       "              ...   \n",
       "Zoroark         Dark\n",
       "Zorua           Dark\n",
       "Zubat         Poison\n",
       "Zweilous        Dark\n",
       "Zygarde       Dragon\n",
       "Name: Type, Length: 721, dtype: object"
      ]
     },
     "execution_count": 74,
     "metadata": {},
     "output_type": "execute_result"
    }
   ],
   "source": [
    "import pandas as pd\n",
    "pokemon = pd.read_csv(\"pandas/pokemon.csv\", index_col=\"Pokemon\", squeeze=True)\n",
    "pokemon.sort_index(inplace=True)\n",
    "pokemon"
   ]
  },
  {
   "cell_type": "code",
   "execution_count": 75,
   "metadata": {
    "scrolled": true
   },
   "outputs": [
    {
     "data": {
      "text/plain": [
       "'Psychic'"
      ]
     },
     "execution_count": 75,
     "metadata": {},
     "output_type": "execute_result"
    }
   ],
   "source": [
    "pokemon.get(\"Abra\")"
   ]
  },
  {
   "cell_type": "code",
   "execution_count": 77,
   "metadata": {
    "scrolled": true
   },
   "outputs": [
    {
     "data": {
      "text/plain": [
       "Pokemon\n",
       "Abra        Psychic\n",
       "Beheeyem    Psychic\n",
       "Suicune       Water\n",
       "Name: Type, dtype: object"
      ]
     },
     "execution_count": 77,
     "metadata": {},
     "output_type": "execute_result"
    }
   ],
   "source": [
    "pokemon.get([1, 44, 606])"
   ]
  },
  {
   "cell_type": "code",
   "execution_count": 78,
   "metadata": {},
   "outputs": [
    {
     "data": {
      "text/plain": [
       "Pokemon\n",
       "Accelgor        Bug\n",
       "Zubat        Poison\n",
       "Abra        Psychic\n",
       "Name: Type, dtype: object"
      ]
     },
     "execution_count": 78,
     "metadata": {},
     "output_type": "execute_result"
    }
   ],
   "source": [
    "pokemon.get([\"Accelgor\", \"Zubat\", \"Abra\"])"
   ]
  },
  {
   "cell_type": "code",
   "execution_count": 76,
   "metadata": {},
   "outputs": [],
   "source": [
    "pokemon.get(\"Колобок\")"
   ]
  },
  {
   "cell_type": "code",
   "execution_count": 79,
   "metadata": {},
   "outputs": [],
   "source": [
    "pokemon.get(100000)"
   ]
  },
  {
   "cell_type": "code",
   "execution_count": 80,
   "metadata": {},
   "outputs": [
    {
     "data": {
      "text/plain": [
       "'Нет такого покемона'"
      ]
     },
     "execution_count": 80,
     "metadata": {},
     "output_type": "execute_result"
    }
   ],
   "source": [
    "pokemon.get(\"Колобок\", default=\"Нет такого покемона\")"
   ]
  },
  {
   "cell_type": "code",
   "execution_count": 82,
   "metadata": {},
   "outputs": [
    {
     "data": {
      "text/plain": [
       "'Нет такого покемона'"
      ]
     },
     "execution_count": 82,
     "metadata": {},
     "output_type": "execute_result"
    }
   ],
   "source": [
    "pokemon.get(100000, default=\"Нет такого покемона\")"
   ]
  },
  {
   "cell_type": "code",
   "execution_count": 83,
   "metadata": {},
   "outputs": [
    {
     "data": {
      "text/plain": [
       "'Нет такого покемона'"
      ]
     },
     "execution_count": 83,
     "metadata": {},
     "output_type": "execute_result"
    }
   ],
   "source": [
    "pokemon.get([1, 77, 4000], default=\"Нет такого покемона\")"
   ]
  },
  {
   "cell_type": "markdown",
   "metadata": {},
   "source": [
    "# 40. Math Methods on Series Objects"
   ]
  },
  {
   "cell_type": "code",
   "execution_count": 84,
   "metadata": {},
   "outputs": [
    {
     "data": {
      "text/plain": [
       "0    50.12\n",
       "1    54.10\n",
       "2    54.65\n",
       "Name: Stock Price, dtype: float64"
      ]
     },
     "execution_count": 84,
     "metadata": {},
     "output_type": "execute_result"
    }
   ],
   "source": [
    "google = pd.read_csv(\"pandas/google_stock_price.csv\", squeeze=True)\n",
    "google.head(3)"
   ]
  },
  {
   "cell_type": "code",
   "execution_count": 85,
   "metadata": {},
   "outputs": [
    {
     "data": {
      "text/plain": [
       "3012"
      ]
     },
     "execution_count": 85,
     "metadata": {},
     "output_type": "execute_result"
    }
   ],
   "source": [
    "google.count() # не учитывает NaN"
   ]
  },
  {
   "cell_type": "code",
   "execution_count": 86,
   "metadata": {},
   "outputs": [
    {
     "data": {
      "text/plain": [
       "3012"
      ]
     },
     "execution_count": 86,
     "metadata": {},
     "output_type": "execute_result"
    }
   ],
   "source": [
    "len(google)"
   ]
  },
  {
   "cell_type": "code",
   "execution_count": 87,
   "metadata": {},
   "outputs": [
    {
     "data": {
      "text/plain": [
       "1006942.0"
      ]
     },
     "execution_count": 87,
     "metadata": {},
     "output_type": "execute_result"
    }
   ],
   "source": [
    "google.sum()"
   ]
  },
  {
   "cell_type": "code",
   "execution_count": 89,
   "metadata": {},
   "outputs": [
    {
     "data": {
      "text/plain": [
       "334.31009296148744"
      ]
     },
     "execution_count": 89,
     "metadata": {},
     "output_type": "execute_result"
    }
   ],
   "source": [
    "google.mean()"
   ]
  },
  {
   "cell_type": "code",
   "execution_count": 90,
   "metadata": {},
   "outputs": [
    {
     "data": {
      "text/plain": [
       "334.3100929614874"
      ]
     },
     "execution_count": 90,
     "metadata": {},
     "output_type": "execute_result"
    }
   ],
   "source": [
    "google.sum() / google.count()"
   ]
  },
  {
   "cell_type": "code",
   "execution_count": 91,
   "metadata": {},
   "outputs": [
    {
     "data": {
      "text/plain": [
       "173.18720477113106"
      ]
     },
     "execution_count": 91,
     "metadata": {},
     "output_type": "execute_result"
    }
   ],
   "source": [
    "google.std() # стандартное отклонение"
   ]
  },
  {
   "cell_type": "code",
   "execution_count": 92,
   "metadata": {},
   "outputs": [
    {
     "data": {
      "text/plain": [
       "49.95"
      ]
     },
     "execution_count": 92,
     "metadata": {},
     "output_type": "execute_result"
    }
   ],
   "source": [
    "google.min()"
   ]
  },
  {
   "cell_type": "code",
   "execution_count": 93,
   "metadata": {},
   "outputs": [
    {
     "data": {
      "text/plain": [
       "782.22"
      ]
     },
     "execution_count": 93,
     "metadata": {},
     "output_type": "execute_result"
    }
   ],
   "source": [
    "google.max()"
   ]
  },
  {
   "cell_type": "code",
   "execution_count": 94,
   "metadata": {},
   "outputs": [
    {
     "data": {
      "text/plain": [
       "283.315"
      ]
     },
     "execution_count": 94,
     "metadata": {},
     "output_type": "execute_result"
    }
   ],
   "source": [
    "google.median()"
   ]
  },
  {
   "cell_type": "code",
   "execution_count": 95,
   "metadata": {},
   "outputs": [
    {
     "data": {
      "text/plain": [
       "0    291.21\n",
       "dtype: float64"
      ]
     },
     "execution_count": 95,
     "metadata": {},
     "output_type": "execute_result"
    }
   ],
   "source": [
    "google.mode() # мода"
   ]
  },
  {
   "cell_type": "code",
   "execution_count": 96,
   "metadata": {},
   "outputs": [
    {
     "data": {
      "text/plain": [
       "count    3012.000000\n",
       "mean      334.310093\n",
       "std       173.187205\n",
       "min        49.950000\n",
       "25%       218.045000\n",
       "50%       283.315000\n",
       "75%       443.000000\n",
       "max       782.220000\n",
       "Name: Stock Price, dtype: float64"
      ]
     },
     "execution_count": 96,
     "metadata": {},
     "output_type": "execute_result"
    }
   ],
   "source": [
    "google.describe()"
   ]
  },
  {
   "cell_type": "markdown",
   "metadata": {},
   "source": [
    "# 41. Use the idxmax and idxmin Methods to Find Index of Greatest or Smallest Value"
   ]
  },
  {
   "cell_type": "code",
   "execution_count": 97,
   "metadata": {},
   "outputs": [
    {
     "data": {
      "text/plain": [
       "0    50.12\n",
       "1    54.10\n",
       "2    54.65\n",
       "Name: Stock Price, dtype: float64"
      ]
     },
     "execution_count": 97,
     "metadata": {},
     "output_type": "execute_result"
    }
   ],
   "source": [
    "google = pd.read_csv(\"pandas/google_stock_price.csv\", squeeze=True)\n",
    "google.head(3)"
   ]
  },
  {
   "cell_type": "code",
   "execution_count": 98,
   "metadata": {},
   "outputs": [
    {
     "data": {
      "text/plain": [
       "782.22"
      ]
     },
     "execution_count": 98,
     "metadata": {},
     "output_type": "execute_result"
    }
   ],
   "source": [
    "google.max()"
   ]
  },
  {
   "cell_type": "code",
   "execution_count": 99,
   "metadata": {},
   "outputs": [
    {
     "data": {
      "text/plain": [
       "49.95"
      ]
     },
     "execution_count": 99,
     "metadata": {},
     "output_type": "execute_result"
    }
   ],
   "source": [
    "google.min()"
   ]
  },
  {
   "cell_type": "code",
   "execution_count": 101,
   "metadata": {},
   "outputs": [
    {
     "data": {
      "text/plain": [
       "3011"
      ]
     },
     "execution_count": 101,
     "metadata": {},
     "output_type": "execute_result"
    }
   ],
   "source": [
    "google.idxmax()"
   ]
  },
  {
   "cell_type": "code",
   "execution_count": 102,
   "metadata": {},
   "outputs": [
    {
     "data": {
      "text/plain": [
       "782.22"
      ]
     },
     "execution_count": 102,
     "metadata": {},
     "output_type": "execute_result"
    }
   ],
   "source": [
    "google[3011]"
   ]
  },
  {
   "cell_type": "code",
   "execution_count": 103,
   "metadata": {},
   "outputs": [
    {
     "data": {
      "text/plain": [
       "11"
      ]
     },
     "execution_count": 103,
     "metadata": {},
     "output_type": "execute_result"
    }
   ],
   "source": [
    "google.idxmin()"
   ]
  },
  {
   "cell_type": "markdown",
   "metadata": {},
   "source": [
    "# 42. Use the value_counts Method to See Counts of Unique Values within a Series"
   ]
  },
  {
   "cell_type": "code",
   "execution_count": 105,
   "metadata": {},
   "outputs": [
    {
     "data": {
      "text/plain": [
       "Pokemon\n",
       "Bulbasaur     Grass\n",
       "Ivysaur       Grass\n",
       "Venusaur      Grass\n",
       "Charmander     Fire\n",
       "Charmeleon     Fire\n",
       "Charizard      Fire\n",
       "Squirtle      Water\n",
       "Wartortle     Water\n",
       "Blastoise     Water\n",
       "Caterpie        Bug\n",
       "Name: Type, dtype: object"
      ]
     },
     "execution_count": 105,
     "metadata": {},
     "output_type": "execute_result"
    }
   ],
   "source": [
    "pokemon = pd.read_csv(\"pandas/pokemon.csv\", index_col=\"Pokemon\", squeeze=True)\n",
    "pokemon.head(10)"
   ]
  },
  {
   "cell_type": "code",
   "execution_count": 106,
   "metadata": {},
   "outputs": [
    {
     "data": {
      "text/plain": [
       "Water       105\n",
       "Normal       93\n",
       "Grass        66\n",
       "Bug          63\n",
       "Psychic      47\n",
       "Fire         47\n",
       "Rock         41\n",
       "Electric     36\n",
       "Ground       30\n",
       "Dark         28\n",
       "Poison       28\n",
       "Fighting     25\n",
       "Dragon       24\n",
       "Ice          23\n",
       "Ghost        23\n",
       "Steel        22\n",
       "Fairy        17\n",
       "Flying        3\n",
       "Name: Type, dtype: int64"
      ]
     },
     "execution_count": 106,
     "metadata": {},
     "output_type": "execute_result"
    }
   ],
   "source": [
    "pokemon.value_counts()"
   ]
  },
  {
   "cell_type": "code",
   "execution_count": 107,
   "metadata": {},
   "outputs": [
    {
     "data": {
      "text/plain": [
       "Flying        3\n",
       "Fairy        17\n",
       "Steel        22\n",
       "Ghost        23\n",
       "Ice          23\n",
       "Dragon       24\n",
       "Fighting     25\n",
       "Poison       28\n",
       "Dark         28\n",
       "Ground       30\n",
       "Electric     36\n",
       "Rock         41\n",
       "Fire         47\n",
       "Psychic      47\n",
       "Bug          63\n",
       "Grass        66\n",
       "Normal       93\n",
       "Water       105\n",
       "Name: Type, dtype: int64"
      ]
     },
     "execution_count": 107,
     "metadata": {},
     "output_type": "execute_result"
    }
   ],
   "source": [
    "pokemon.value_counts(ascending=True)"
   ]
  },
  {
   "cell_type": "markdown",
   "metadata": {},
   "source": [
    "# 43. Use the apply Method to Invoke a Function on Every Series Values"
   ]
  },
  {
   "cell_type": "code",
   "execution_count": 111,
   "metadata": {},
   "outputs": [
    {
     "data": {
      "text/plain": [
       "0        50.12\n",
       "1        54.10\n",
       "2        54.65\n",
       "3        52.38\n",
       "4        52.95\n",
       "         ...  \n",
       "3007    772.88\n",
       "3008    771.07\n",
       "3009    773.18\n",
       "3010    771.61\n",
       "3011    782.22\n",
       "Name: Stock Price, Length: 3012, dtype: float64"
      ]
     },
     "execution_count": 111,
     "metadata": {},
     "output_type": "execute_result"
    }
   ],
   "source": [
    "google = pd.read_csv(\"pandas/google_stock_price.csv\", squeeze=True)\n",
    "google"
   ]
  },
  {
   "cell_type": "code",
   "execution_count": 109,
   "metadata": {},
   "outputs": [],
   "source": [
    "def classify_performance(number):\n",
    "    if number < 300:\n",
    "        return \"OK\"\n",
    "    elif number >= 300 and number < 650:\n",
    "        return \"Satisfactory\"\n",
    "    else:\n",
    "        return \"Incredible!\""
   ]
  },
  {
   "cell_type": "code",
   "execution_count": 110,
   "metadata": {},
   "outputs": [
    {
     "data": {
      "text/plain": [
       "0                OK\n",
       "1                OK\n",
       "2                OK\n",
       "3                OK\n",
       "4                OK\n",
       "           ...     \n",
       "3007    Incredible!\n",
       "3008    Incredible!\n",
       "3009    Incredible!\n",
       "3010    Incredible!\n",
       "3011    Incredible!\n",
       "Name: Stock Price, Length: 3012, dtype: object"
      ]
     },
     "execution_count": 110,
     "metadata": {},
     "output_type": "execute_result"
    }
   ],
   "source": [
    "google.apply(classify_performance)"
   ]
  },
  {
   "cell_type": "code",
   "execution_count": 112,
   "metadata": {},
   "outputs": [
    {
     "data": {
      "text/plain": [
       "0        50.12\n",
       "1        54.10\n",
       "2        54.65\n",
       "3        52.38\n",
       "4        52.95\n",
       "         ...  \n",
       "3007    772.88\n",
       "3008    771.07\n",
       "3009    773.18\n",
       "3010    771.61\n",
       "3011    782.22\n",
       "Name: Stock Price, Length: 3012, dtype: float64"
      ]
     },
     "execution_count": 112,
     "metadata": {},
     "output_type": "execute_result"
    }
   ],
   "source": [
    "google"
   ]
  },
  {
   "cell_type": "code",
   "execution_count": 115,
   "metadata": {},
   "outputs": [
    {
     "data": {
      "text/plain": [
       "0        $ 50.12\n",
       "1         $ 54.1\n",
       "2        $ 54.65\n",
       "3        $ 52.38\n",
       "4        $ 52.95\n",
       "          ...   \n",
       "3007    $ 772.88\n",
       "3008    $ 771.07\n",
       "3009    $ 773.18\n",
       "3010    $ 771.61\n",
       "3011    $ 782.22\n",
       "Name: Stock Price, Length: 3012, dtype: object"
      ]
     },
     "execution_count": 115,
     "metadata": {},
     "output_type": "execute_result"
    }
   ],
   "source": [
    "google.apply(lambda stock_price: f\"$ {stock_price}\")"
   ]
  },
  {
   "cell_type": "code",
   "execution_count": null,
   "metadata": {},
   "outputs": [],
   "source": []
  }
 ],
 "metadata": {
  "kernelspec": {
   "display_name": "Python 3",
   "language": "python",
   "name": "python3"
  },
  "language_info": {
   "codemirror_mode": {
    "name": "ipython",
    "version": 3
   },
   "file_extension": ".py",
   "mimetype": "text/x-python",
   "name": "python",
   "nbconvert_exporter": "python",
   "pygments_lexer": "ipython3",
   "version": "3.8.3"
  }
 },
 "nbformat": 4,
 "nbformat_minor": 4
}
