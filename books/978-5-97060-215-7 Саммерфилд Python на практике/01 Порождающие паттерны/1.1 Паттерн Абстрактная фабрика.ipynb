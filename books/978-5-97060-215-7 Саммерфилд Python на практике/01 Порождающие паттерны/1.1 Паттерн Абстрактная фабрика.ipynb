{
 "cells": [
  {
   "cell_type": "markdown",
   "metadata": {},
   "source": [
    "# 1.1 Паттерн Абстрактная фабрика"
   ]
  },
  {
   "cell_type": "markdown",
   "metadata": {},
   "source": [
    "Требуется создать сложный объект, состоящий из других объектов, причем все составляющие объекты принадлежат одному \"семейству\".яяясм"
   ]
  },
  {
   "cell_type": "markdown",
   "metadata": {},
   "source": [
    "## 1.1.1 Классическая Абстрактная фабрика"
   ]
  },
  {
   "cell_type": "markdown",
   "metadata": {},
   "source": [
    "Общий код:"
   ]
  },
  {
   "cell_type": "code",
   "execution_count": null,
   "metadata": {},
   "outputs": [],
   "source": [
    "def main():\n",
    "    # ...\n",
    "    txtDiagram = create_diagram(DiagramFactory())\n",
    "    txtDiagram.save(textFilename)\n",
    "    \n",
    "    svgDiagram = create_diagram(SvgDiagramFactory())\n",
    "    svgDiagram.save(svgFilename)"
   ]
  },
  {
   "cell_type": "code",
   "execution_count": null,
   "metadata": {},
   "outputs": [],
   "source": [
    "def create_diagram(factory):\n",
    "    diagram = factory.make_diagram(30, 7)\n",
    "    rectangle = factory.make_rectangle(4, 1, 22, 5, \"yellow\")\n",
    "    text = factory.make_text(7, 3, \"Abstract Factory\")\n",
    "    diagram.add(rectangle)\n",
    "    diagram.add(text)\n",
    "    return diagram"
   ]
  },
  {
   "cell_type": "code",
   "execution_count": null,
   "metadata": {},
   "outputs": [],
   "source": [
    "сlass DiagramFactory:\n",
    "    \n",
    "    def make_diagram(self, width, height):\n",
    "        return Diagram(width, height)\n",
    "    \n",
    "    def make_rectangle(self, x, y, width, height, fill=\"white\", \n",
    "                       stroke=\"black\"):\n",
    "        return Rectangle(x, y, width, height, fill, stroke)\n",
    "    \n",
    "    def make_text(self, x, y, text, fontsize=12):\n",
    "        return Text(x, y, text, fontsize)"
   ]
  },
  {
   "cell_type": "code",
   "execution_count": null,
   "metadata": {},
   "outputs": [],
   "source": [
    "class SvgDiagramFactory(DiagramFactory):\n",
    "    \n",
    "    def make_diagram(self, width, height):\n",
    "        return SvgDiagram(width, height)\n",
    "    \n",
    "    # ..."
   ]
  },
  {
   "cell_type": "code",
   "execution_count": null,
   "metadata": {},
   "outputs": [],
   "source": [
    "class Text:\n",
    "    \n",
    "    def __init__(self, x, y, text, fontsize):\n",
    "        self.x = x\n",
    "        self.y = y\n",
    "        self.rows = [list(text)]"
   ]
  },
  {
   "cell_type": "code",
   "execution_count": null,
   "metadata": {},
   "outputs": [],
   "source": [
    "class Diagram:\n",
    "    # ...\n",
    "    \n",
    "    def add(self, component):\n",
    "        for y, row in enumerate(component.rows):\n",
    "            for x, char in enumerate(row):\n",
    "                self.diagram[y + component.y][x + component.x] = char"
   ]
  }
 ],
 "metadata": {
  "kernelspec": {
   "display_name": "Python 3",
   "language": "python",
   "name": "python3"
  },
  "language_info": {
   "codemirror_mode": {
    "name": "ipython",
    "version": 3
   },
   "file_extension": ".py",
   "mimetype": "text/x-python",
   "name": "python",
   "nbconvert_exporter": "python",
   "pygments_lexer": "ipython3",
   "version": "3.5.2"
  }
 },
 "nbformat": 4,
 "nbformat_minor": 2
}
