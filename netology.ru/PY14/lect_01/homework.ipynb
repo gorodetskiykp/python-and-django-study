{
 "cells": [
  {
   "cell_type": "markdown",
   "metadata": {},
   "source": [
    "# Домашнее задание к лекции 1.1 «Первые шаги в Python, запуск, знакомство с консолью»\n",
    "\n",
    "https://netology-university.bitbucket.io/py/homework/1.1-first-steps/\n",
    "\n",
    "## Задача №1\n",
    "\n",
    "На лекции мы приступили к написанию программы \"Ассистент путешественника\". Вам нужно дополнить его функционал следующим образом:\n",
    "- Выводить текущий курс евро к рублю (считаем, что он не меняется).\n",
    "- Вывести стоимость проживания не только в евро, но и в рублях.\n",
    "- Допустим у нас есть бюджет на поездку, выяснить, не выходим ли мы за него, если выходим, то вывести предупреждение.\n",
    "- Предположим, что каждый из нас начал вести список расходов. Вывести сумму, которую потратил каждый и сколько осталось в общем бюджете. Используйте тип данных `list`.\n",
    "\n",
    "## Задача №2.\n",
    "\n",
    "Загуглить или воспользоваться [документацией по Python](https://docs.python.org/3/library/functions.html#func-list), коротко написать *что такое функция* и *что такое цикл* на 2-3 предложения.\n",
    "\n",
    "## Задача №3. Дополнительная (не обязательная)\n",
    "\n",
    "Реализуйте на языке Python решение какой-либо вашей прикладной задачи (или придумайте себе эту задачу)."
   ]
  },
  {
   "cell_type": "code",
   "execution_count": 6,
   "metadata": {},
   "outputs": [
    {
     "name": "stdout",
     "output_type": "stream",
     "text": [
      "720\n"
     ]
    }
   ],
   "source": [
    "EURO_EXCHANGE_RATE = 70.65\n",
    "DAY_COST_EURO = 20\n",
    "FLIGHTS_PER_TRIP = 2\n",
    "FLIGHT_COST_EURO = 50\n",
    "\n",
    "trip_length_days = {\n",
    "    'France': 10,\n",
    "    'Germany': 4,\n",
    "    'Turkey': 7\n",
    "}\n",
    "\n",
    "living_cost_euro = sum(trip_length_days.values()) * DAY_COST_EURO\n",
    "flights_cost_euro = FLIGHT_COST_EURO * FLIGHTS_PER_TRIP * len(trip_length_days)\n",
    "trip_cost_euro = living_cost_euro + flights_cost_euro\n",
    "\n",
    "print(trip_cost_euro)\n",
    "\n",
    "march = 100\n",
    "april = 250\n",
    "may = 330\n",
    "june = 220\n",
    "\n",
    "salary_euro = [march, april, may, june]"
   ]
  },
  {
   "cell_type": "code",
   "execution_count": null,
   "metadata": {},
   "outputs": [],
   "source": []
  }
 ],
 "metadata": {
  "kernelspec": {
   "display_name": "Python 3",
   "language": "python",
   "name": "python3"
  },
  "language_info": {
   "codemirror_mode": {
    "name": "ipython",
    "version": 3
   },
   "file_extension": ".py",
   "mimetype": "text/x-python",
   "name": "python",
   "nbconvert_exporter": "python",
   "pygments_lexer": "ipython3",
   "version": "3.5.2"
  }
 },
 "nbformat": 4,
 "nbformat_minor": 2
}
