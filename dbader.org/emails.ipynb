{
 "cells": [
  {
   "cell_type": "markdown",
   "metadata": {},
   "source": [
    "# dict & enumerate"
   ]
  },
  {
   "cell_type": "code",
   "execution_count": 1,
   "metadata": {},
   "outputs": [],
   "source": [
    "input = ['Duration', 'F1', 'F2', 'F3']\n",
    "output = {'Duration': 0, 'F1': 1, 'F2': 2, 'F3': 3}"
   ]
  },
  {
   "cell_type": "code",
   "execution_count": 2,
   "metadata": {},
   "outputs": [
    {
     "name": "stdout",
     "output_type": "stream",
     "text": [
      "{'F3': 3, 'F1': 1, 'Duration': 0, 'F2': 2}\n"
     ]
    }
   ],
   "source": [
    "output = {}\n",
    "for i, item in enumerate(input):\n",
    "    output[item] = i\n",
    "print(output)"
   ]
  },
  {
   "cell_type": "code",
   "execution_count": 4,
   "metadata": {},
   "outputs": [
    {
     "name": "stdout",
     "output_type": "stream",
     "text": [
      "{'F3': 3, 'F1': 1, 'Duration': 0, 'F2': 2}\n"
     ]
    }
   ],
   "source": [
    "output = {item: i for i, item in enumerate(input)}\n",
    "print(output)"
   ]
  },
  {
   "cell_type": "code",
   "execution_count": 5,
   "metadata": {},
   "outputs": [
    {
     "name": "stdout",
     "output_type": "stream",
     "text": [
      "{'F3': 3, 'F1': 1, 'Duration': 0, 'F2': 2}\n"
     ]
    }
   ],
   "source": [
    "output = {f: i for f, i in zip(input, range(len(input)))}\n",
    "print(output)"
   ]
  },
  {
   "cell_type": "code",
   "execution_count": 6,
   "metadata": {},
   "outputs": [
    {
     "name": "stdout",
     "output_type": "stream",
     "text": [
      "{'F3': 3, 'F1': 1, 'Duration': 0, 'F2': 2}\n"
     ]
    }
   ],
   "source": [
    "output = dict(zip(input, range(len(input))))\n",
    "print(output)"
   ]
  },
  {
   "cell_type": "markdown",
   "metadata": {},
   "source": [
    "# reverse a string"
   ]
  },
  {
   "cell_type": "markdown",
   "metadata": {},
   "source": [
    "https://dbader.org/blog/python-reverse-string"
   ]
  },
  {
   "cell_type": "code",
   "execution_count": null,
   "metadata": {},
   "outputs": [],
   "source": []
  }
 ],
 "metadata": {
  "kernelspec": {
   "display_name": "Python 3",
   "language": "python",
   "name": "python3"
  },
  "language_info": {
   "codemirror_mode": {
    "name": "ipython",
    "version": 3
   },
   "file_extension": ".py",
   "mimetype": "text/x-python",
   "name": "python",
   "nbconvert_exporter": "python",
   "pygments_lexer": "ipython3",
   "version": "3.5.2"
  }
 },
 "nbformat": 4,
 "nbformat_minor": 2
}
